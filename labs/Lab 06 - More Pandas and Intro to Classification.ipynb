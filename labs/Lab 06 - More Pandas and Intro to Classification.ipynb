{
  "nbformat": 4,
  "nbformat_minor": 0,
  "metadata": {
    "kernelspec": {
      "display_name": "Python 3",
      "language": "python",
      "name": "python3"
    },
    "language_info": {
      "codemirror_mode": {
        "name": "ipython",
        "version": 3
      },
      "file_extension": ".py",
      "mimetype": "text/x-python",
      "name": "python",
      "nbconvert_exporter": "python",
      "pygments_lexer": "ipython3",
      "version": "3.5.1"
    },
    "colab": {
      "name": "Lab 06 - More Pandas and Intro to Classification.ipynb",
      "provenance": [],
      "include_colab_link": true
    }
  },
  "cells": [
    {
      "cell_type": "markdown",
      "metadata": {
        "id": "view-in-github",
        "colab_type": "text"
      },
      "source": [
        "<a href=\"https://colab.research.google.com/github/organisciak/Text-Mining-Course/blob/independentstudy/labs/Lab%2006%20-%20More%20Pandas%20and%20Intro%20to%20Classification.ipynb\" target=\"_parent\"><img src=\"https://colab.research.google.com/assets/colab-badge.svg\" alt=\"Open In Colab\"/></a>"
      ]
    },
    {
      "cell_type": "markdown",
      "metadata": {
        "id": "AVEi9VawTNjH",
        "colab_type": "text"
      },
      "source": [
        "# Lab 06\n",
        "\n",
        "This week, we'll continue with the tutorial on using the HTRC Extracted Features Dataset, through Python. Last week was the preparation, this week is the fun stuff!\n",
        "\n",
        "## Pandas and the Extracted Features Dataset, continued"
      ]
    },
    {
      "cell_type": "code",
      "metadata": {
        "id": "HvJ_WYjxTNjJ",
        "colab_type": "code",
        "colab": {},
        "cellView": "form"
      },
      "source": [
        "#@title Re-install the Feature Reader and do other imports\n",
        "!pip install git+https://github.com/massivetexts/htrc-feature-reader.git\n",
        "import pandas as pd"
      ],
      "execution_count": 0,
      "outputs": []
    },
    {
      "cell_type": "markdown",
      "metadata": {
        "id": "HhVnxnoqTNjb",
        "colab_type": "text"
      },
      "source": [
        "### Method Chaining\n",
        "\n",
        "In Pandas, you may find yourself combining a number of Dataframe methods in a row. When the output of each step is a DataFrame, you don't have to save each step to a variable: you can 'chain' the commands. So, if you want to transfer a DataFrame called `original`:\n",
        "\n",
        "```python\n",
        "df1 = original.do_something()\n",
        "df2 = df1.do_something_else()\n",
        "df3 = df2.do_more()\n",
        "```\n",
        ", you can get the same result as follows:\n",
        "\n",
        "```python\n",
        "df3 = original.do_something().do_something_else().do_more()\n",
        "```\n",
        "\n",
        "You may see the benefit and the downside of method chaining above.\n",
        "\n",
        "The benefit: you're not saving intermediate DataFrames to variables. `df1` and `df2` were only necessary to get you to `df3`, so why even save them?\n",
        "\n",
        "The downside is less readability: yuck! This is fine for short chains, but for longer ones you still want the line breaks. That way, when you return to your code in the future, you can make sense of it (and so I can read it when marking!).\n",
        "\n",
        "To format chained methods better, you can wrap everything in braces, which tells Python that the current line of code isn't done until the braces end:\n",
        "\n",
        "```python\n",
        "(df3 = original.do_something()\n",
        "               .do_something_else()\n",
        "               .do_more()\n",
        ")\n",
        "```\n",
        "\n",
        "Much prettier. This style will be useful once things get more complex. Remember that you're not forced to use chaining: saving intermediate variables is fine, and can be helpful if you find a bug somewhere in the chain. However, you'll see it occasionally in example code, so it is good to understand what is happening."
      ]
    },
    {
      "cell_type": "markdown",
      "metadata": {
        "id": "TCniHB3ZTNji",
        "colab_type": "text"
      },
      "source": [
        "### Slicing\n",
        "\n",
        "Following from last week's reading on [Text Mining in Python through the HTRC Feature Reader](http://programminghistorian.org/lessons/text-mining-with-extracted-features), we'll be continuing from the 'Slicing DataFrames' section to the end.\n",
        "\n",
        "First, lets reload the volume from last lab task."
      ]
    },
    {
      "cell_type": "code",
      "metadata": {
        "id": "7z_V0LcFTNjn",
        "colab_type": "code",
        "colab": {
          "base_uri": "https://localhost:8080/",
          "height": 35
        },
        "outputId": "eb52ab54-32d3-47f8-ee09-267eee47a109"
      },
      "source": [
        "from htrc_features import Volume\n",
        "vol = Volume('mdp.49015002392919')\n",
        "vol"
      ],
      "execution_count": 6,
      "outputs": [
        {
          "output_type": "execute_result",
          "data": {
            "text/html": [
              "<strong><a href='http://hdl.handle.net/2027/mdp.49015002392919'>The adventures of Tom Sawyer, by Mark Twain (Samuel L. Clemens)...</a></strong> by <em>Twain, Mark 1835-1910 </em> (1917, 316 pages) - <code>mdp.49015002392919</code>"
            ],
            "text/plain": [
              "<htrc_features.feature_reader.Volume at 0x7fb7ab3c7828>"
            ]
          },
          "metadata": {
            "tags": []
          },
          "execution_count": 6
        }
      ]
    },
    {
      "cell_type": "markdown",
      "metadata": {
        "id": "h7nif0scTNkF",
        "colab_type": "text"
      },
      "source": [
        "**Q1**: Fill in the blanks to produce the output show in the image below:\n",
        "\n",
        "```\n",
        "(vol.tokenlist(pages=**BLANK1**, pos=**BLANK2**, case=False)\n",
        "    .loc[(\"body\", slice(None), \"**BLANK3**\"),]\n",
        "    .sort_values(\"count\", ascending=**BLANK4**)\n",
        "    .head(**BLANK5**)\n",
        ")\n",
        "```\n",
        "\n",
        "![](https://github.com/organisciak/Text-Mining-Course/blob/independentstudy/images/lab6-output.png?raw=1)\n",
        "\n",
        "_Multiple Choice_\n",
        "1. True, False\n",
        "2. True, False\n",
        "3. slice(None), \"body\", \"RB\", \"NNP\"\n",
        "4. True, False\n",
        "5. 3, 5, 7"
      ]
    },
    {
      "cell_type": "markdown",
      "metadata": {
        "id": "ZibmW0j5TNkP",
        "colab_type": "text"
      },
      "source": [
        "**Q2**: What is the code to get the token frequencies for page 39 of the book? You'll start with `tl = vol.tokenlist()`, what's next?"
      ]
    },
    {
      "cell_type": "markdown",
      "metadata": {
        "id": "0ejShINdTNkf",
        "colab_type": "text"
      },
      "source": [
        "**Q3**: How would you get the five most frequent words tagged as a proper noun or a plural proper noun? Since the question doesn't involve page-level counts, you'll want to start with `tl = vol.tokenlist(pages=False)`."
      ]
    },
    {
      "cell_type": "markdown",
      "metadata": {
        "id": "YckELemKTNkn",
        "colab_type": "text"
      },
      "source": [
        "### Grouping"
      ]
    },
    {
      "cell_type": "markdown",
      "metadata": {
        "id": "vpoyDlSUTNkr",
        "colab_type": "text"
      },
      "source": [
        "**Q4**: What does the following code do?\n",
        "\n",
        "```python\n",
        "tl = vol.tokenlist()\n",
        "tl.groupby(level='page').count().sort_values('count', ascending=False)\n",
        "```\n",
        "\n",
        "How does it differ from the following?\n",
        "\n",
        "```python\n",
        "tl = vol.tokenlist()\n",
        "tl.groupby(level='page').sum().sort_values('count', ascending=False)\n",
        "```"
      ]
    },
    {
      "cell_type": "markdown",
      "metadata": {
        "id": "xiTPxGFWTNks",
        "colab_type": "text"
      },
      "source": [
        "**Q5** (2pts): Set a new variable to `vol.tokenlist().reset_index()`.\n",
        "\n",
        "**a)** What did `reset_index` do?\n",
        "**b)** How would you get run the summing code from above (i.e. the second example in Q4)?"
      ]
    },
    {
      "cell_type": "markdown",
      "metadata": {
        "id": "uh7uvS1ZTNkt",
        "colab_type": "text"
      },
      "source": [
        "**Q6**: Using the DataFrame from Q5, how would you select the rows with counts for the word `Tom`? Remember from the reading that 'slicing' is something done only on indexes - you learned to select based on a column value last week."
      ]
    },
    {
      "cell_type": "markdown",
      "metadata": {
        "id": "ZWhYP-8eTNku",
        "colab_type": "text"
      },
      "source": [
        "**Q7**: Using the result from Q6, figure out how to plot the counts of 'Tom' by page. The plot method for DataFrames takes `x` and `y` arguments. Share the code to produce this:\n",
        "\n",
        "![](https://github.com/organisciak/Text-Mining-Course/blob/independentstudy/images/lab6-sawyer-plot.png?raw=1)"
      ]
    },
    {
      "cell_type": "markdown",
      "metadata": {
        "id": "okxafM5iTNku",
        "colab_type": "text"
      },
      "source": [
        "### Pandas Series\n",
        "\n",
        "Where a Pandas DataFrame object is like a spreadsheet, with rows and columns, a Pandas Series object is like just one column: it is a sequence of just one value at a time. You can think of it as a supercharged list.\n",
        "\n",
        "To pull out a single column of a DataFrame as a Series, use square brackets to reference the column by name. Using the DataFrame from Q7, where the index has been reset to columns, here's an example:"
      ]
    },
    {
      "cell_type": "code",
      "metadata": {
        "id": "sN2G2OKwTNkv",
        "colab_type": "code",
        "colab": {},
        "outputId": "613e9281-0762-46d6-b721-07dfac31e9e2"
      },
      "source": [
        "token_series = tl['token']\n",
        "\n",
        "# Show five random items from the series\n",
        "token_series.sample(5)"
      ],
      "execution_count": 0,
      "outputs": [
        {
          "output_type": "execute_result",
          "data": {
            "text/plain": [
              "31992         of\n",
              "35613      Least\n",
              "16341       them\n",
              "4477        bear\n",
              "15935    finally\n",
              "Name: token, dtype: object"
            ]
          },
          "metadata": {
            "tags": []
          },
          "execution_count": 186
        }
      ]
    },
    {
      "cell_type": "markdown",
      "metadata": {
        "id": "1mXhQ4WoTNk_",
        "colab_type": "text"
      },
      "source": [
        "If you want to add a series to a DataFrame as a column, you can do the same in reverse:"
      ]
    },
    {
      "cell_type": "code",
      "metadata": {
        "id": "Q4SLaYkkTNlA",
        "colab_type": "code",
        "colab": {},
        "outputId": "aaff7895-0e6e-46e0-ec2f-89bf14f99cdc"
      },
      "source": [
        "tl['new_column'] = token_series\n",
        "tl.sample(5)"
      ],
      "execution_count": 0,
      "outputs": [
        {
          "output_type": "execute_result",
          "data": {
            "text/html": [
              "<div>\n",
              "<table border=\"1\" class=\"dataframe\">\n",
              "  <thead>\n",
              "    <tr style=\"text-align: right;\">\n",
              "      <th></th>\n",
              "      <th>page</th>\n",
              "      <th>section</th>\n",
              "      <th>token</th>\n",
              "      <th>pos</th>\n",
              "      <th>count</th>\n",
              "      <th>new_column</th>\n",
              "    </tr>\n",
              "  </thead>\n",
              "  <tbody>\n",
              "    <tr>\n",
              "      <th>11498</th>\n",
              "      <td>89</td>\n",
              "      <td>body</td>\n",
              "      <td>then</td>\n",
              "      <td>RB</td>\n",
              "      <td>2</td>\n",
              "      <td>then</td>\n",
              "    </tr>\n",
              "    <tr>\n",
              "      <th>32915</th>\n",
              "      <td>221</td>\n",
              "      <td>body</td>\n",
              "      <td>No</td>\n",
              "      <td>UH</td>\n",
              "      <td>2</td>\n",
              "      <td>No</td>\n",
              "    </tr>\n",
              "    <tr>\n",
              "      <th>22816</th>\n",
              "      <td>158</td>\n",
              "      <td>body</td>\n",
              "      <td>sat</td>\n",
              "      <td>VBD</td>\n",
              "      <td>1</td>\n",
              "      <td>sat</td>\n",
              "    </tr>\n",
              "    <tr>\n",
              "      <th>45905</th>\n",
              "      <td>297</td>\n",
              "      <td>body</td>\n",
              "      <td>toward</td>\n",
              "      <td>IN</td>\n",
              "      <td>1</td>\n",
              "      <td>toward</td>\n",
              "    </tr>\n",
              "    <tr>\n",
              "      <th>11934</th>\n",
              "      <td>93</td>\n",
              "      <td>body</td>\n",
              "      <td>73</td>\n",
              "      <td>CD</td>\n",
              "      <td>1</td>\n",
              "      <td>73</td>\n",
              "    </tr>\n",
              "  </tbody>\n",
              "</table>\n",
              "</div>"
            ],
            "text/plain": [
              "       page section   token  pos  count new_column\n",
              "11498    89    body    then   RB      2       then\n",
              "32915   221    body      No   UH      2         No\n",
              "22816   158    body     sat  VBD      1        sat\n",
              "45905   297    body  toward   IN      1     toward\n",
              "11934    93    body      73   CD      1         73"
            ]
          },
          "metadata": {
            "tags": []
          },
          "execution_count": 187
        }
      ]
    },
    {
      "cell_type": "markdown",
      "metadata": {
        "id": "E-NhnNMdTNlM",
        "colab_type": "text"
      },
      "source": [
        "Tada!"
      ]
    },
    {
      "cell_type": "markdown",
      "metadata": {
        "id": "atlLFaK7TNlN",
        "colab_type": "text"
      },
      "source": [
        "A series has a couple of useful features. For example, you can apply a function against each item with `apply`. If we wanted to get the length of every string (like we manually would do with `len('string')`, it's possible in this way:"
      ]
    },
    {
      "cell_type": "code",
      "metadata": {
        "scrolled": true,
        "id": "Upbzviy5TNlQ",
        "colab_type": "code",
        "colab": {},
        "outputId": "4f444f96-b818-4850-d780-790f3fbef3fc"
      },
      "source": [
        "token_series.apply(len).head()"
      ],
      "execution_count": 0,
      "outputs": [
        {
          "output_type": "execute_result",
          "data": {
            "text/plain": [
              "0    1\n",
              "1    1\n",
              "2    1\n",
              "3    4\n",
              "4    6\n",
              "Name: token, dtype: int64"
            ]
          },
          "metadata": {
            "tags": []
          },
          "execution_count": 188
        }
      ]
    },
    {
      "cell_type": "markdown",
      "metadata": {
        "id": "RtdZtQIBTNlg",
        "colab_type": "text"
      },
      "source": [
        "Is it clear what happened there? `apply` took the function we gave it, `len`, and for each value in the Series applied `len(value)`.\n",
        "\n",
        "If this was a list instead of a Series, the equivalent would be `[len(string) for string in list_of_strings]`.\n",
        "\n",
        "Just to be more clear, I'll add it as a column:"
      ]
    },
    {
      "cell_type": "code",
      "metadata": {
        "id": "LOXXMyMJTNlh",
        "colab_type": "code",
        "colab": {},
        "outputId": "f80c1a0f-71a0-4b49-ffb5-6d9aa9186c92"
      },
      "source": [
        "tl['token_length'] = token_series.apply(len)\n",
        "tl.sample(5)"
      ],
      "execution_count": 0,
      "outputs": [
        {
          "output_type": "execute_result",
          "data": {
            "text/html": [
              "<div>\n",
              "<table border=\"1\" class=\"dataframe\">\n",
              "  <thead>\n",
              "    <tr style=\"text-align: right;\">\n",
              "      <th></th>\n",
              "      <th>page</th>\n",
              "      <th>section</th>\n",
              "      <th>token</th>\n",
              "      <th>pos</th>\n",
              "      <th>count</th>\n",
              "      <th>new_column</th>\n",
              "      <th>token_length</th>\n",
              "    </tr>\n",
              "  </thead>\n",
              "  <tbody>\n",
              "    <tr>\n",
              "      <th>42327</th>\n",
              "      <td>276</td>\n",
              "      <td>body</td>\n",
              "      <td>pockets—yet</td>\n",
              "      <td>NN</td>\n",
              "      <td>1</td>\n",
              "      <td>pockets—yet</td>\n",
              "      <td>11</td>\n",
              "    </tr>\n",
              "    <tr>\n",
              "      <th>19755</th>\n",
              "      <td>140</td>\n",
              "      <td>body</td>\n",
              "      <td>at</td>\n",
              "      <td>IN</td>\n",
              "      <td>1</td>\n",
              "      <td>at</td>\n",
              "      <td>2</td>\n",
              "    </tr>\n",
              "    <tr>\n",
              "      <th>4554</th>\n",
              "      <td>46</td>\n",
              "      <td>body</td>\n",
              "      <td>other</td>\n",
              "      <td>JJ</td>\n",
              "      <td>1</td>\n",
              "      <td>other</td>\n",
              "      <td>5</td>\n",
              "    </tr>\n",
              "    <tr>\n",
              "      <th>13279</th>\n",
              "      <td>100</td>\n",
              "      <td>body</td>\n",
              "      <td>ten</td>\n",
              "      <td>CD</td>\n",
              "      <td>1</td>\n",
              "      <td>ten</td>\n",
              "      <td>3</td>\n",
              "    </tr>\n",
              "    <tr>\n",
              "      <th>12667</th>\n",
              "      <td>97</td>\n",
              "      <td>body</td>\n",
              "      <td>carefully</td>\n",
              "      <td>RB</td>\n",
              "      <td>1</td>\n",
              "      <td>carefully</td>\n",
              "      <td>9</td>\n",
              "    </tr>\n",
              "  </tbody>\n",
              "</table>\n",
              "</div>"
            ],
            "text/plain": [
              "       page section        token pos  count   new_column  token_length\n",
              "42327   276    body  pockets—yet  NN      1  pockets—yet            11\n",
              "19755   140    body           at  IN      1           at             2\n",
              "4554     46    body        other  JJ      1        other             5\n",
              "13279   100    body          ten  CD      1          ten             3\n",
              "12667    97    body    carefully  RB      1    carefully             9"
            ]
          },
          "metadata": {
            "tags": []
          },
          "execution_count": 189
        }
      ]
    },
    {
      "cell_type": "markdown",
      "metadata": {
        "id": "9gT-S7meTNlq",
        "colab_type": "text"
      },
      "source": [
        "Looks right!\n",
        "\n",
        "Another useful method of a Series is `value_counts`, which simply counts how often each value occurs:"
      ]
    },
    {
      "cell_type": "code",
      "metadata": {
        "id": "66E_bdiWTNlr",
        "colab_type": "code",
        "colab": {},
        "outputId": "33c499d1-8a1b-427e-d2d9-138c05e65566"
      },
      "source": [
        "token_series.value_counts().head()"
      ],
      "execution_count": 0,
      "outputs": [
        {
          "output_type": "execute_result",
          "data": {
            "text/plain": [
              "that    502\n",
              "\"       485\n",
              "'s      364\n",
              ".       297\n",
              "the     296\n",
              "Name: token, dtype: int64"
            ]
          },
          "metadata": {
            "tags": []
          },
          "execution_count": 190
        }
      ]
    },
    {
      "cell_type": "markdown",
      "metadata": {
        "id": "cUJGjlYpTNl7",
        "colab_type": "text"
      },
      "source": [
        "Finally, for a Series that specifically has strings, there are string methods. Try `token_series.str.<TAB>` to see the autofill of what is possible.\n",
        "\n",
        "Going back to our ALTA filtering for `isalpha()`, we can quickly do the same here:"
      ]
    },
    {
      "cell_type": "code",
      "metadata": {
        "id": "oKrcULrXTNl8",
        "colab_type": "code",
        "colab": {},
        "outputId": "22ba459b-a059-4696-817c-5991da8a2ded"
      },
      "source": [
        "is_alpha_matches = token_series.str.isalpha()\n",
        "is_alpha_matches.head(10)"
      ],
      "execution_count": 0,
      "outputs": [
        {
          "output_type": "execute_result",
          "data": {
            "text/plain": [
              "0    False\n",
              "1    False\n",
              "2    False\n",
              "3    False\n",
              "4    False\n",
              "5    False\n",
              "6     True\n",
              "7     True\n",
              "8     True\n",
              "9     True\n",
              "Name: token, dtype: bool"
            ]
          },
          "metadata": {
            "tags": []
          },
          "execution_count": 191
        }
      ]
    },
    {
      "cell_type": "markdown",
      "metadata": {
        "id": "l5KgoYlyTNmF",
        "colab_type": "text"
      },
      "source": [
        "We saw in Lab 5 that supplying a set of True or False values to a DataFrame allows us to select rows. lets try it with the above Series:"
      ]
    },
    {
      "cell_type": "code",
      "metadata": {
        "id": "u33FlofZTNmF",
        "colab_type": "code",
        "colab": {},
        "outputId": "d663d5ea-2b61-4772-996e-9bb55b45383e"
      },
      "source": [
        "tl.head(10)"
      ],
      "execution_count": 0,
      "outputs": [
        {
          "output_type": "execute_result",
          "data": {
            "text/html": [
              "<div>\n",
              "<table border=\"1\" class=\"dataframe\">\n",
              "  <thead>\n",
              "    <tr style=\"text-align: right;\">\n",
              "      <th></th>\n",
              "      <th>page</th>\n",
              "      <th>section</th>\n",
              "      <th>token</th>\n",
              "      <th>pos</th>\n",
              "      <th>count</th>\n",
              "      <th>new_column</th>\n",
              "      <th>token_length</th>\n",
              "    </tr>\n",
              "  </thead>\n",
              "  <tbody>\n",
              "    <tr>\n",
              "      <th>0</th>\n",
              "      <td>3</td>\n",
              "      <td>body</td>\n",
              "      <td>.</td>\n",
              "      <td>.</td>\n",
              "      <td>1</td>\n",
              "      <td>.</td>\n",
              "      <td>1</td>\n",
              "    </tr>\n",
              "    <tr>\n",
              "      <th>1</th>\n",
              "      <td>3</td>\n",
              "      <td>body</td>\n",
              "      <td>0</td>\n",
              "      <td>CD</td>\n",
              "      <td>1</td>\n",
              "      <td>0</td>\n",
              "      <td>1</td>\n",
              "    </tr>\n",
              "    <tr>\n",
              "      <th>2</th>\n",
              "      <td>3</td>\n",
              "      <td>body</td>\n",
              "      <td>1</td>\n",
              "      <td>CD</td>\n",
              "      <td>1</td>\n",
              "      <td>1</td>\n",
              "      <td>1</td>\n",
              "    </tr>\n",
              "    <tr>\n",
              "      <th>3</th>\n",
              "      <td>3</td>\n",
              "      <td>body</td>\n",
              "      <td>2003</td>\n",
              "      <td>CD</td>\n",
              "      <td>1</td>\n",
              "      <td>2003</td>\n",
              "      <td>4</td>\n",
              "    </tr>\n",
              "    <tr>\n",
              "      <th>4</th>\n",
              "      <td>3</td>\n",
              "      <td>body</td>\n",
              "      <td>38-297</td>\n",
              "      <td>CD</td>\n",
              "      <td>1</td>\n",
              "      <td>38-297</td>\n",
              "      <td>6</td>\n",
              "    </tr>\n",
              "    <tr>\n",
              "      <th>5</th>\n",
              "      <td>3</td>\n",
              "      <td>body</td>\n",
              "      <td>4</td>\n",
              "      <td>CD</td>\n",
              "      <td>1</td>\n",
              "      <td>4</td>\n",
              "      <td>1</td>\n",
              "    </tr>\n",
              "    <tr>\n",
              "      <th>6</th>\n",
              "      <td>3</td>\n",
              "      <td>body</td>\n",
              "      <td>DEMCO</td>\n",
              "      <td>NNP</td>\n",
              "      <td>1</td>\n",
              "      <td>DEMCO</td>\n",
              "      <td>5</td>\n",
              "    </tr>\n",
              "    <tr>\n",
              "      <th>7</th>\n",
              "      <td>3</td>\n",
              "      <td>body</td>\n",
              "      <td>M</td>\n",
              "      <td>NNP</td>\n",
              "      <td>1</td>\n",
              "      <td>M</td>\n",
              "      <td>1</td>\n",
              "    </tr>\n",
              "    <tr>\n",
              "      <th>8</th>\n",
              "      <td>7</td>\n",
              "      <td>body</td>\n",
              "      <td>LEATHER</td>\n",
              "      <td>NNP</td>\n",
              "      <td>1</td>\n",
              "      <td>LEATHER</td>\n",
              "      <td>7</td>\n",
              "    </tr>\n",
              "    <tr>\n",
              "      <th>9</th>\n",
              "      <td>7</td>\n",
              "      <td>body</td>\n",
              "      <td>LIMP</td>\n",
              "      <td>NNP</td>\n",
              "      <td>1</td>\n",
              "      <td>LIMP</td>\n",
              "      <td>4</td>\n",
              "    </tr>\n",
              "  </tbody>\n",
              "</table>\n",
              "</div>"
            ],
            "text/plain": [
              "   page section    token  pos  count new_column  token_length\n",
              "0     3    body        .    .      1          .             1\n",
              "1     3    body        0   CD      1          0             1\n",
              "2     3    body        1   CD      1          1             1\n",
              "3     3    body     2003   CD      1       2003             4\n",
              "4     3    body   38-297   CD      1     38-297             6\n",
              "5     3    body        4   CD      1          4             1\n",
              "6     3    body    DEMCO  NNP      1      DEMCO             5\n",
              "7     3    body        M  NNP      1          M             1\n",
              "8     7    body  LEATHER  NNP      1    LEATHER             7\n",
              "9     7    body     LIMP  NNP      1       LIMP             4"
            ]
          },
          "metadata": {
            "tags": []
          },
          "execution_count": 192
        }
      ]
    },
    {
      "cell_type": "code",
      "metadata": {
        "id": "EiJS1StMTNmJ",
        "colab_type": "code",
        "colab": {},
        "outputId": "40787c98-2c8f-48cf-a8ad-d2d0de905553"
      },
      "source": [
        "tl[is_alpha_matches].head()"
      ],
      "execution_count": 0,
      "outputs": [
        {
          "output_type": "execute_result",
          "data": {
            "text/html": [
              "<div>\n",
              "<table border=\"1\" class=\"dataframe\">\n",
              "  <thead>\n",
              "    <tr style=\"text-align: right;\">\n",
              "      <th></th>\n",
              "      <th>page</th>\n",
              "      <th>section</th>\n",
              "      <th>token</th>\n",
              "      <th>pos</th>\n",
              "      <th>count</th>\n",
              "      <th>new_column</th>\n",
              "      <th>token_length</th>\n",
              "    </tr>\n",
              "  </thead>\n",
              "  <tbody>\n",
              "    <tr>\n",
              "      <th>6</th>\n",
              "      <td>3</td>\n",
              "      <td>body</td>\n",
              "      <td>DEMCO</td>\n",
              "      <td>NNP</td>\n",
              "      <td>1</td>\n",
              "      <td>DEMCO</td>\n",
              "      <td>5</td>\n",
              "    </tr>\n",
              "    <tr>\n",
              "      <th>7</th>\n",
              "      <td>3</td>\n",
              "      <td>body</td>\n",
              "      <td>M</td>\n",
              "      <td>NNP</td>\n",
              "      <td>1</td>\n",
              "      <td>M</td>\n",
              "      <td>1</td>\n",
              "    </tr>\n",
              "    <tr>\n",
              "      <th>8</th>\n",
              "      <td>7</td>\n",
              "      <td>body</td>\n",
              "      <td>LEATHER</td>\n",
              "      <td>NNP</td>\n",
              "      <td>1</td>\n",
              "      <td>LEATHER</td>\n",
              "      <td>7</td>\n",
              "    </tr>\n",
              "    <tr>\n",
              "      <th>9</th>\n",
              "      <td>7</td>\n",
              "      <td>body</td>\n",
              "      <td>LIMP</td>\n",
              "      <td>NNP</td>\n",
              "      <td>1</td>\n",
              "      <td>LIMP</td>\n",
              "      <td>4</td>\n",
              "    </tr>\n",
              "    <tr>\n",
              "      <th>10</th>\n",
              "      <td>7</td>\n",
              "      <td>body</td>\n",
              "      <td>MARK</td>\n",
              "      <td>NNP</td>\n",
              "      <td>1</td>\n",
              "      <td>MARK</td>\n",
              "      <td>4</td>\n",
              "    </tr>\n",
              "  </tbody>\n",
              "</table>\n",
              "</div>"
            ],
            "text/plain": [
              "    page section    token  pos  count new_column  token_length\n",
              "6      3    body    DEMCO  NNP      1      DEMCO             5\n",
              "7      3    body        M  NNP      1          M             1\n",
              "8      7    body  LEATHER  NNP      1    LEATHER             7\n",
              "9      7    body     LIMP  NNP      1       LIMP             4\n",
              "10     7    body     MARK  NNP      1       MARK             4"
            ]
          },
          "metadata": {
            "tags": []
          },
          "execution_count": 193
        }
      ]
    },
    {
      "cell_type": "markdown",
      "metadata": {
        "id": "pkXPXgMHTNmM",
        "colab_type": "text"
      },
      "source": [
        "It worked! Of the top ten rows, the only ones that are selected are solely alphabetical. Remember that `is_alpha_matches` is simple `tl['token'].str.isalpha()`, which could have been used for selection.\n",
        "\n",
        "Finally, one more string method, `lower()`:"
      ]
    },
    {
      "cell_type": "code",
      "metadata": {
        "id": "rSYmuKpbTNmM",
        "colab_type": "code",
        "colab": {},
        "outputId": "2119da77-0970-4474-f41a-d1c4e7ed9a92"
      },
      "source": [
        "tl['lowercase'] = token_series.str.lower()\n",
        "tl.sample(5)"
      ],
      "execution_count": 0,
      "outputs": [
        {
          "output_type": "execute_result",
          "data": {
            "text/html": [
              "<div>\n",
              "<table border=\"1\" class=\"dataframe\">\n",
              "  <thead>\n",
              "    <tr style=\"text-align: right;\">\n",
              "      <th></th>\n",
              "      <th>page</th>\n",
              "      <th>section</th>\n",
              "      <th>token</th>\n",
              "      <th>pos</th>\n",
              "      <th>count</th>\n",
              "      <th>new_column</th>\n",
              "      <th>token_length</th>\n",
              "      <th>lowercase</th>\n",
              "    </tr>\n",
              "  </thead>\n",
              "  <tbody>\n",
              "    <tr>\n",
              "      <th>44538</th>\n",
              "      <td>289</td>\n",
              "      <td>body</td>\n",
              "      <td>time</td>\n",
              "      <td>NN</td>\n",
              "      <td>1</td>\n",
              "      <td>time</td>\n",
              "      <td>4</td>\n",
              "      <td>time</td>\n",
              "    </tr>\n",
              "    <tr>\n",
              "      <th>20868</th>\n",
              "      <td>146</td>\n",
              "      <td>body</td>\n",
              "      <td>top</td>\n",
              "      <td>NN</td>\n",
              "      <td>1</td>\n",
              "      <td>top</td>\n",
              "      <td>3</td>\n",
              "      <td>top</td>\n",
              "    </tr>\n",
              "    <tr>\n",
              "      <th>16134</th>\n",
              "      <td>118</td>\n",
              "      <td>body</td>\n",
              "      <td>matter</td>\n",
              "      <td>NN</td>\n",
              "      <td>1</td>\n",
              "      <td>matter</td>\n",
              "      <td>6</td>\n",
              "      <td>matter</td>\n",
              "    </tr>\n",
              "    <tr>\n",
              "      <th>42279</th>\n",
              "      <td>276</td>\n",
              "      <td>body</td>\n",
              "      <td>healing</td>\n",
              "      <td>NN</td>\n",
              "      <td>1</td>\n",
              "      <td>healing</td>\n",
              "      <td>7</td>\n",
              "      <td>healing</td>\n",
              "    </tr>\n",
              "    <tr>\n",
              "      <th>23931</th>\n",
              "      <td>165</td>\n",
              "      <td>body</td>\n",
              "      <td>effort</td>\n",
              "      <td>NN</td>\n",
              "      <td>1</td>\n",
              "      <td>effort</td>\n",
              "      <td>6</td>\n",
              "      <td>effort</td>\n",
              "    </tr>\n",
              "  </tbody>\n",
              "</table>\n",
              "</div>"
            ],
            "text/plain": [
              "       page section    token pos  count new_column  token_length lowercase\n",
              "44538   289    body     time  NN      1       time             4      time\n",
              "20868   146    body      top  NN      1        top             3       top\n",
              "16134   118    body   matter  NN      1     matter             6    matter\n",
              "42279   276    body  healing  NN      1    healing             7   healing\n",
              "23931   165    body   effort  NN      1     effort             6    effort"
            ]
          },
          "metadata": {
            "tags": []
          },
          "execution_count": 194
        }
      ]
    },
    {
      "cell_type": "markdown",
      "metadata": {
        "id": "braTPBbxTNmP",
        "colab_type": "text"
      },
      "source": [
        "**Q8**: How is `token_series.str.istitle()` different from `token_series.str.isupper()`?"
      ]
    },
    {
      "cell_type": "markdown",
      "metadata": {
        "id": "goms8nCmTNmQ",
        "colab_type": "text"
      },
      "source": [
        "**Q9**: Which of the following options returns the tokens that have a hyphen in them?\n",
        "\n",
        " 1. `tl[tl['token'].str.has('-')]`\n",
        " 2. `tl[tl['token'].str.contains('-')]`\n",
        " 3. `tl[tl['token'].contains('-')]`\n",
        " 4. `tl[tl['token'] == '-']`\n",
        " 5. None of the above"
      ]
    }
  ]
}