{
  "nbformat": 4,
  "nbformat_minor": 0,
  "metadata": {
    "kernelspec": {
      "display_name": "Python 3",
      "language": "python",
      "name": "python3"
    },
    "language_info": {
      "codemirror_mode": {
        "name": "ipython",
        "version": 3
      },
      "file_extension": ".py",
      "mimetype": "text/x-python",
      "name": "python",
      "nbconvert_exporter": "python",
      "pygments_lexer": "ipython3",
      "version": "3.5.1"
    },
    "colab": {
      "name": "Lab 04.ipynb",
      "provenance": [],
      "include_colab_link": true
    }
  },
  "cells": [
    {
      "cell_type": "markdown",
      "metadata": {
        "id": "view-in-github",
        "colab_type": "text"
      },
      "source": [
        "<a href=\"https://colab.research.google.com/github/organisciak/Text-Mining-Course/blob/independentstudy/labs/Lab%2004.ipynb\" target=\"_parent\"><img src=\"https://colab.research.google.com/assets/colab-badge.svg\" alt=\"Open In Colab\"/></a>"
      ]
    },
    {
      "cell_type": "markdown",
      "metadata": {
        "id": "T6_jZUcjQ9Fy",
        "colab_type": "text"
      },
      "source": [
        "Hopefully by this week, you're comfortable with lists (i.e. [a, b, c, ..]) and growing to understand list comprehensions.\n",
        "\n",
        "Two fundamental Python skills to be aware of. First, there's a general purpose method called `len()` that returns the length of an object, like \"how many items in this list\" or \"how many characters in this string\". e.g."
      ]
    },
    {
      "cell_type": "code",
      "metadata": {
        "id": "axl1aLAjQ9F1",
        "colab_type": "code",
        "colab": {
          "base_uri": "https://localhost:8080/",
          "height": 35
        },
        "outputId": "471f8f7d-e03f-41fa-e124-0cd67ba4dc9b"
      },
      "source": [
        "l = ['hello', 'text', 'mining']\n",
        "len(l)"
      ],
      "execution_count": 1,
      "outputs": [
        {
          "output_type": "execute_result",
          "data": {
            "text/plain": [
              "3"
            ]
          },
          "metadata": {
            "tags": []
          },
          "execution_count": 1
        }
      ]
    },
    {
      "cell_type": "code",
      "metadata": {
        "id": "1x1FxeYbQ9GD",
        "colab_type": "code",
        "colab": {
          "base_uri": "https://localhost:8080/",
          "height": 35
        },
        "outputId": "63af9de4-f7a1-4c1c-bf95-f8e59aeb93ed"
      },
      "source": [
        "len(\"Text Mining\")"
      ],
      "execution_count": 2,
      "outputs": [
        {
          "output_type": "execute_result",
          "data": {
            "text/plain": [
              "11"
            ]
          },
          "metadata": {
            "tags": []
          },
          "execution_count": 2
        }
      ]
    },
    {
      "cell_type": "markdown",
      "metadata": {
        "id": "0paeGBF_Q9GQ",
        "colab_type": "text"
      },
      "source": [
        "There is also an object called a `set`, which is like a list, but without an ordering and only allowing unique elements. This is useful for us, because it gives a quick way to see just the unique words of a list: the vocabulary."
      ]
    },
    {
      "cell_type": "code",
      "metadata": {
        "id": "f06ZhPqlQ9GR",
        "colab_type": "code",
        "colab": {
          "base_uri": "https://localhost:8080/",
          "height": 54
        },
        "outputId": "41b9bffe-5c24-4feb-9183-15f5efd668db"
      },
      "source": [
        "l = ['Buffalo', 'buffalo', 'Buffalo', 'buffalo', 'buffalo', 'Buffalo', 'buffalo', 'buffalo']\n",
        "s = set(l)\n",
        "print(\"List:\", l)\n",
        "print(\"Set:\", s)"
      ],
      "execution_count": 3,
      "outputs": [
        {
          "output_type": "stream",
          "text": [
            "List: ['Buffalo', 'buffalo', 'Buffalo', 'buffalo', 'buffalo', 'Buffalo', 'buffalo', 'buffalo']\n",
            "Set: {'buffalo', 'Buffalo'}\n"
          ],
          "name": "stdout"
        }
      ]
    },
    {
      "cell_type": "markdown",
      "metadata": {
        "id": "y8LXIJxIQ9GU",
        "colab_type": "text"
      },
      "source": [
        "# Normalization"
      ]
    },
    {
      "cell_type": "markdown",
      "metadata": {
        "id": "kb3uz6suQ9GV",
        "colab_type": "text"
      },
      "source": [
        "This week, follow along with [Searching for Meaning](https://github.com/sgsinclair/alta/blob/41f389f3d9708573c44c883bcd95fd16bad54a24/ipynb/SearchingMeaning.ipynb) from the Art of Literary Text Analysis.\n",
        "\n",
        "Use the trimmed version of Frankenstein from last week to try some of the concepts in the chapter. This should get you up to speed. If you get an error about a missing tokenization model, figure out how to fix it based on the error text."
      ]
    },
    {
      "cell_type": "code",
      "metadata": {
        "id": "6GhbM6OqQ9GW",
        "colab_type": "code",
        "colab": {
          "base_uri": "https://localhost:8080/",
          "height": 35
        },
        "outputId": "0dd64436-4161-41c0-9bc1-7f94717efdda"
      },
      "source": [
        "import nltk\n",
        "from smart_open import open\n",
        "with open('https://github.com/organisciak/Text-Mining-Course/blob/independentstudy/data/frankenstein.txt') as f:\n",
        "    frankensteinString = f.read()\n",
        "frankensteinTokens = nltk.word_tokenize(frankensteinString)\n",
        "cleanedTokens = [word.lower() for word in frankensteinTokens if word[0].isalpha()]\n",
        "len(frankensteinTokens)"
      ],
      "execution_count": 7,
      "outputs": [
        {
          "output_type": "execute_result",
          "data": {
            "text/plain": [
              "395668"
            ]
          },
          "metadata": {
            "tags": []
          },
          "execution_count": 7
        }
      ]
    },
    {
      "cell_type": "markdown",
      "metadata": {
        "id": "CqF6A4q1Q9Gc",
        "colab_type": "text"
      },
      "source": [
        "Note, that there are 85440 tokens in the text. If we count just the _unique_ words (the _vocabulary size_), we find 7038:"
      ]
    },
    {
      "cell_type": "code",
      "metadata": {
        "scrolled": true,
        "id": "-wT7AnnpQ9Gd",
        "colab_type": "code",
        "colab": {
          "base_uri": "https://localhost:8080/",
          "height": 35
        },
        "outputId": "bcb19c89-2b95-4178-a533-0bde9c39cee0"
      },
      "source": [
        "len(set(cleanedTokens))"
      ],
      "execution_count": 8,
      "outputs": [
        {
          "output_type": "execute_result",
          "data": {
            "text/plain": [
              "22442"
            ]
          },
          "metadata": {
            "tags": []
          },
          "execution_count": 8
        }
      ]
    },
    {
      "cell_type": "markdown",
      "metadata": {
        "id": "xrqLCv3WQ9Gh",
        "colab_type": "text"
      },
      "source": [
        "**Questions**\n",
        "\n",
        "- 1) Create a lemmatized version of cleanedTokens and count the unique lemmas. Share the code to do this: the answer that it gives you should be 6416.\n",
        "- 2) Re-do the lemmatization after stopping words against the default NLTK stoplist, and tabulate the top ten words. Paste the code and output.\n",
        "- 3) How does the tabulation of lemmas differ from the tabulation of the non-lemmatized (but still stopped and case-folded) tokens?\n",
        "- 4) What are the WordNet synsets for 'monster'?\n",
        "- 5) A synset has a method called `definition()`. Noting that the code for Q4 resulted in a list, write a list comprehension to extracts all the definitions for each synset. Share the code and output.\n",
        "- 6) Each synset is a child of a more general synset. For example, `crab` is an example of a `decapod_crustacean`, which is more generally a `crustacean`, and so on. You can get at the paths to the root of this tree with `hypernym_paths()`. Paste the code and hypernym path for `freak.n.01`.\n",
        "- 7) (for 2 points): We've already seen some corpora that NLTK can pull in, from the complex WordNet information to a basic stoplist. Using the NLTK information on male/female names, determine and paste in the unique female names in Frankenstein. This isn't in the ALTA book, but searching Google sometimes helps ;)\n",
        "\n",
        "Our copy of Frankenstein is from Project Gutenberg, a collection of transcriptions of public domain (i.e. legally shareable) books. NLTK offers a small selection of those books through `nltk.corpus.gutenberg`.\n",
        "\n",
        "Load the gutenberg corpus and convert it to what NLTK calls a TextCollection:"
      ]
    },
    {
      "cell_type": "code",
      "metadata": {
        "id": "DugsXNDHQ9Gi",
        "colab_type": "code",
        "colab": {}
      },
      "source": [
        "from nltk.text import TextCollection\n",
        "gutenberg_docs = nltk.corpus.gutenberg\n",
        "gutenberg_collection = TextCollection(gutenberg_docs)"
      ],
      "execution_count": 0,
      "outputs": []
    },
    {
      "cell_type": "markdown",
      "metadata": {
        "id": "PB8Uux8oQ9Gm",
        "colab_type": "text"
      },
      "source": [
        "Using a method of `gutenberg_collection` (remember auto-complete!), answer the final two-part question.\n",
        "\n",
        "Questions:\n",
        "    \n",
        " - 8) For 2 points:\n",
        "   - What is the TFIDF for 'monster' in Frankenstein? You'll need the original (unnormalized) tokens.\n",
        "   - What word has the highest TF-IDF for the following: 'miserable', 'horror', 'monster'? If you need it, you can compare numbers in python with > (greater than) or < (less than)."
      ]
    }
  ]
}