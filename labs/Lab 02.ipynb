{
  "nbformat": 4,
  "nbformat_minor": 0,
  "metadata": {
    "kernelspec": {
      "display_name": "Python 3",
      "language": "python",
      "name": "python3"
    },
    "language_info": {
      "codemirror_mode": {
        "name": "ipython",
        "version": 3
      },
      "file_extension": ".py",
      "mimetype": "text/x-python",
      "name": "python",
      "nbconvert_exporter": "python",
      "pygments_lexer": "ipython3",
      "version": "3.5.1"
    },
    "colab": {
      "name": "Lab 02.ipynb",
      "provenance": [],
      "include_colab_link": true
    }
  },
  "cells": [
    {
      "cell_type": "markdown",
      "metadata": {
        "id": "view-in-github",
        "colab_type": "text"
      },
      "source": [
        "<a href=\"https://colab.research.google.com/github/organisciak/Text-Mining-Course/blob/independentstudy/labs/Lab%2002.ipynb\" target=\"_parent\"><img src=\"https://colab.research.google.com/assets/colab-badge.svg\" alt=\"Open In Colab\"/></a>"
      ]
    },
    {
      "cell_type": "markdown",
      "metadata": {
        "id": "yJvNGjVOMzS0",
        "colab_type": "text"
      },
      "source": [
        "# Week 2 Lab Task\n",
        "This week is about getting started with powerful tools that will underlie many of the skills you learn in the course. Much of the effort is in setting up your programming environment: the lab questions will ensure that it is done correctly and help you grow familiar with it.\n",
        "\n",
        "In this course we'll be using the Python programming language, using an innovative environment called Jupyter Notebooks.\n",
        "\n",
        "Your _environment_ is similar to your local workspace. Look at your desk: how do you organize your pens, paper, mouse, monitor? Or maybe you have a barebones workspace, working at a coffee shop or kitchen table with only a cup of coffee. In the same way, you can have many different environments for how you work with Python: working on a command line, or running scripts. Jupyter Notebooks is an environment that gives you an interactive, browser based version of Python. It allows you to play with code in a way that gives you immediate feedback, and allows you to break, tinker, and retry.\n",
        "\n",
        "Jupyter Notebooks will be installed through Anaconda.\n",
        "\n",
        "When programming, you're usually not writing everything from scratch. Some code is needed by many other people, so most languages have a concept of a _library_: code written and distributed by other people that you can easily use in your own work. \n",
        "\n",
        "Anaconda is a scientific distribution of Python, which installs Python on your system alongside a great deal of libraries that scientists use. To be clear: it is possible to install Python in other ways and individually install the libraries, but Anaconda puts it all into a tidy package. As scientists want complicated mathematical algorithms, installing some scientific libraries can be very difficult: Anaconda makes it easy!\n",
        "\n",
        "If you've taken my [Scripting Class](https://github.com/organisciak/Scripting-Course) before, this may be review - that's okay, you can get to the new Text Mining learning soon."
      ]
    },
    {
      "cell_type": "markdown",
      "metadata": {
        "id": "b6aoyorEMzS2",
        "colab_type": "text"
      },
      "source": [
        "## 1. Accessing Colab\n",
        "\n",
        "Colab is available at https://colab.research.google.com/. It's is our window into Python and our databases. You need a Google account to run and save your code.\n",
        "\n",
        "**Save your own version of this lab worksheet, or create a new notebook for the exercises**. If you're not already reading this document (this *notebook*) on Colab, you can click the following button to open it: [![Open in Colab](https://colab.research.google.com/assets/colab-badge.svg)](https://colab.research.google.com/github/organisciak/Scripting-Course/blob/master/labs/01%20-%20Getting%20Started). When you open somebody else's notebook, like this lab worksheet, it won't be saved for you - it's in 'playground mode' so that you can just play with it. If you want to save your own code, press `Ctrl+S` then \n",
        "'SAVE A COPY IN DRIVE'.\n",
        "\n",
        "You can also create a new notebook in File -> New Notebook.\n",
        "\n",
        "**Activity:** Follow along with the [Overview of Colaboratory Features](https://colab.research.google.com/notebooks/basic_features_overview.ipynb). You can skip or skim past the *Working With Python* section. Then, read the very short section on the [Modal Editor](https://jupyter-notebook.readthedocs.io/en/stable/examples/Notebook/Notebook%20Basics.html#Modal-editor).\n",
        "\n",
        "Once you're done, talk over these questions with your colleagues. These are fundamental questions - you'll need to know the answers well for the rest of the class!\n",
        "\n",
        "_Questions_\n",
        "\n",
        "- 1) What's the different between a code cell and a text cell?\n",
        "- 2) What are the two modes of a notebook? How do you know which mode you're in? (You'll have to try it and see - unlike Jupyter, in Colab the cell color doesn't change between green and blue).\n",
        "- 3) What do you press to leave edit mode while in a cell?\n",
        "- 4) You can see Keyboard Shotcuts listed by pressing `Ctrl/⌘+M+H` (that is, hold ctrl and press M then H while holding Ctrl/⌘). What are the Keyboard Shortcuts for:\n",
        " - a) Run the focused cell\n",
        " - b) Run the cell and move focus to the next cell\n",
        " - c) Insert cell below\n",
        " - d) Insert cell above"
      ]
    },
    {
      "cell_type": "markdown",
      "metadata": {
        "id": "9yGcMp2GMzS4",
        "colab_type": "text"
      },
      "source": [
        "## 2. A Little bit of code\n",
        "\n",
        "Create a new cell in your notebook with the '+' button in the toolbar (or one of the keyboard shortcuts from the previous question). We're going to try two simple Python commands: setting a variable, and splitting it by whitespace. In the process, we'll encounter two types of data that Python can hold: a string, and a list.\n",
        "\n",
        "Add the following code to the cell and 'run' it. If it runs properly, it should look like below, with the 'In' and 'Out' information."
      ]
    },
    {
      "cell_type": "code",
      "metadata": {
        "id": "LGVe0XmiMzS4",
        "colab_type": "code",
        "colab": {},
        "outputId": "cdd6fc2b-575d-49a7-f7d0-112bb258787d"
      },
      "source": [
        "sentence = \"Hello world.\"\n",
        "sentence"
      ],
      "execution_count": 0,
      "outputs": [
        {
          "output_type": "execute_result",
          "data": {
            "text/plain": [
              "'Hello world.'"
            ]
          },
          "metadata": {
            "tags": []
          },
          "execution_count": 9
        }
      ]
    },
    {
      "cell_type": "markdown",
      "metadata": {
        "id": "eBork2xhMzTD",
        "colab_type": "text"
      },
      "source": [
        "Here, we set a string to a variable, then we called that variable.\n",
        "\n",
        "_Questions_\n",
        "- 4) What output is there if you run the cell without the second line (which simply says `sentence`)?"
      ]
    },
    {
      "cell_type": "markdown",
      "metadata": {
        "id": "LD_Ee3zVMzTE",
        "colab_type": "text"
      },
      "source": [
        "A string is a type of data in Python. By setting it to the variable `sentence`, everywhere you use `sentence` is the exact same as simply writing `\"Hello world.\"` Consider the following examples, or even try them out, which show that the way of joining two strings works the same with a variable or directly with a string:"
      ]
    },
    {
      "cell_type": "code",
      "metadata": {
        "id": "eDpIW4kPMzTF",
        "colab_type": "code",
        "colab": {},
        "outputId": "7f5fc9a9-4653-45d5-e4aa-c6cc07c898e9"
      },
      "source": [
        "\"Hello world.\" + \" Hello moon.\""
      ],
      "execution_count": 0,
      "outputs": [
        {
          "output_type": "execute_result",
          "data": {
            "text/plain": [
              "'Hello world. Hello moon.'"
            ]
          },
          "metadata": {
            "tags": []
          },
          "execution_count": 12
        }
      ]
    },
    {
      "cell_type": "code",
      "metadata": {
        "id": "XZiTB7EGMzTJ",
        "colab_type": "code",
        "colab": {},
        "outputId": "92d6cb35-7958-4e82-e5a7-51f173cfb97c"
      },
      "source": [
        "sentence + \" Hello moon.\""
      ],
      "execution_count": 0,
      "outputs": [
        {
          "output_type": "execute_result",
          "data": {
            "text/plain": [
              "'Hello world. Hello moon.'"
            ]
          },
          "metadata": {
            "tags": []
          },
          "execution_count": 14
        }
      ]
    },
    {
      "cell_type": "code",
      "metadata": {
        "id": "mhDrBuvVMzTO",
        "colab_type": "code",
        "colab": {},
        "outputId": "6041e77a-2d6d-4fff-d2f9-a0a93d33053e"
      },
      "source": [
        "sentence + sentence"
      ],
      "execution_count": 0,
      "outputs": [
        {
          "output_type": "execute_result",
          "data": {
            "text/plain": [
              "'Hello world.Hello world.'"
            ]
          },
          "metadata": {
            "tags": []
          },
          "execution_count": 15
        }
      ]
    },
    {
      "cell_type": "markdown",
      "metadata": {
        "id": "Sd7YD_hKMzTS",
        "colab_type": "text"
      },
      "source": [
        "We can even see the datatype of a variable with `type()`:"
      ]
    },
    {
      "cell_type": "code",
      "metadata": {
        "scrolled": true,
        "id": "ge3EiaK9MzTS",
        "colab_type": "code",
        "colab": {},
        "outputId": "8f130a75-bb80-4d43-bb5f-a02bfbc4547f"
      },
      "source": [
        "type(sentence)"
      ],
      "execution_count": 0,
      "outputs": [
        {
          "output_type": "execute_result",
          "data": {
            "text/plain": [
              "str"
            ]
          },
          "metadata": {
            "tags": []
          },
          "execution_count": 80
        }
      ]
    },
    {
      "cell_type": "markdown",
      "metadata": {
        "id": "p2N4-UKoMzTX",
        "colab_type": "text"
      },
      "source": [
        "If you have a really long string that needs to go across lines, you can use `\\` before the line break to tell Python that _this line of code is not done yet_. Set this famously long sentence from _Paul Clifton_ to the variable `paragraph` in your notebook:"
      ]
    },
    {
      "cell_type": "code",
      "metadata": {
        "id": "KQDQ9ymdMzTY",
        "colab_type": "code",
        "colab": {},
        "outputId": "de067a4f-dd3b-4c5d-ef7e-4f87639969e6"
      },
      "source": [
        "paragraph = \"It was a dark and stormy night; the rain fell in torrents — except at occasional intervals, when it was \" + \\\n",
        "    \"checked by a violent gust of wind which swept up the streets (for it is in London that our scene lies), rattling \" + \\\n",
        "    \"along the housetops, and fiercely agitating the scanty flame of the lamps that struggled against the darkness.\"\n",
        "paragraph"
      ],
      "execution_count": 0,
      "outputs": [
        {
          "output_type": "execute_result",
          "data": {
            "text/plain": [
              "'It was a dark and stormy night; the rain fell in torrents — except at occasional intervals, when it was checked by a violent gust of wind which swept up the streets (for it is in London that our scene lies), rattling along the housetops, and fiercely agitating the scanty flame of the lamps that struggled against the darkness.'"
            ]
          },
          "metadata": {
            "tags": []
          },
          "execution_count": 30
        }
      ]
    },
    {
      "cell_type": "markdown",
      "metadata": {
        "id": "q7KXa6UjMzTg",
        "colab_type": "text"
      },
      "source": [
        "_Questions_ \n",
        "- 5) For the code block above, \n",
        "  - a) Are the indents necessary for the code to run?\n",
        "  - b) Are the pluses (+) necessary for the code to run?\n",
        "  - c) Are the backslashes (\\\\) necessary for the code to run?\n",
        "  \n",
        "_tinker with the code and re-run as necessary_"
      ]
    },
    {
      "cell_type": "markdown",
      "metadata": {
        "id": "Brb5jawqMzTh",
        "colab_type": "text"
      },
      "source": [
        "Another important datatype in Python is the `list`. This is a way to hold multiple things together: strings, numbers, etc. For example:"
      ]
    },
    {
      "cell_type": "code",
      "metadata": {
        "id": "1KBDvPCIMzTi",
        "colab_type": "code",
        "colab": {},
        "outputId": "d8d58de4-06aa-40b1-a8ff-850e04717549"
      },
      "source": [
        "list_of_strings = [\"Never\", \"gonna\", \"give\", \"you\", \"up\"]\n",
        "list_of_strings"
      ],
      "execution_count": 0,
      "outputs": [
        {
          "output_type": "execute_result",
          "data": {
            "text/plain": [
              "['Never', 'gonna', 'give', 'you', 'up']"
            ]
          },
          "metadata": {
            "tags": []
          },
          "execution_count": 57
        }
      ]
    },
    {
      "cell_type": "code",
      "metadata": {
        "id": "BSFCmu9_MzTl",
        "colab_type": "code",
        "colab": {},
        "outputId": "d25d8ad8-ccdd-474d-d9ae-fc7645be471f"
      },
      "source": [
        "list_of_numbers = [ 4, 8, 15, 16, 23, 42]\n",
        "list_of_numbers"
      ],
      "execution_count": 0,
      "outputs": [
        {
          "output_type": "execute_result",
          "data": {
            "text/plain": [
              "[4, 8, 15, 16, 23, 42]"
            ]
          },
          "metadata": {
            "tags": []
          },
          "execution_count": 38
        }
      ]
    },
    {
      "cell_type": "markdown",
      "metadata": {
        "id": "BJBbrmELMzTq",
        "colab_type": "text"
      },
      "source": [
        "Individual objects from a list can be retrieved using a square bracket referencing the place in the list (starting with 0):"
      ]
    },
    {
      "cell_type": "code",
      "metadata": {
        "id": "OChJ0k9vMzTr",
        "colab_type": "code",
        "colab": {},
        "outputId": "cf54be79-2ac9-4496-9017-2adba2531e49"
      },
      "source": [
        "list_of_strings[0]"
      ],
      "execution_count": 0,
      "outputs": [
        {
          "output_type": "execute_result",
          "data": {
            "text/plain": [
              "'Hello'"
            ]
          },
          "metadata": {
            "tags": []
          },
          "execution_count": 36
        }
      ]
    },
    {
      "cell_type": "code",
      "metadata": {
        "id": "GNP0KlsgMzTw",
        "colab_type": "code",
        "colab": {},
        "outputId": "db2a0fa8-8a44-4538-aaef-589d5bfe863d"
      },
      "source": [
        "list_of_numbers[1]"
      ],
      "execution_count": 0,
      "outputs": [
        {
          "output_type": "execute_result",
          "data": {
            "text/plain": [
              "8"
            ]
          },
          "metadata": {
            "tags": []
          },
          "execution_count": 40
        }
      ]
    },
    {
      "cell_type": "markdown",
      "metadata": {
        "id": "ZTZMKzTcMzTz",
        "colab_type": "text"
      },
      "source": [
        "You can select a list range by specify two numbers in the square brackets with a colon in-between:"
      ]
    },
    {
      "cell_type": "code",
      "metadata": {
        "id": "8wIPH46VMzTz",
        "colab_type": "code",
        "colab": {},
        "outputId": "e9991abe-7714-4683-e5a6-466368b31c8b"
      },
      "source": [
        "list_of_strings[1:4]"
      ],
      "execution_count": 0,
      "outputs": [
        {
          "output_type": "execute_result",
          "data": {
            "text/plain": [
              "['gonna', 'give', 'you']"
            ]
          },
          "metadata": {
            "tags": []
          },
          "execution_count": 63
        }
      ]
    },
    {
      "cell_type": "markdown",
      "metadata": {
        "id": "z5_sLe87MzT2",
        "colab_type": "text"
      },
      "source": [
        "Using the colon without a number means _from the very start_ or _until the very end_:"
      ]
    },
    {
      "cell_type": "code",
      "metadata": {
        "id": "iK2o5_ILMzT3",
        "colab_type": "code",
        "colab": {},
        "outputId": "01510be4-3b3b-46cf-ab96-3ce2afa5895d"
      },
      "source": [
        "list_of_strings[:4]"
      ],
      "execution_count": 0,
      "outputs": [
        {
          "output_type": "execute_result",
          "data": {
            "text/plain": [
              "['Never', 'gonna', 'give', 'you']"
            ]
          },
          "metadata": {
            "tags": []
          },
          "execution_count": 64
        }
      ]
    },
    {
      "cell_type": "code",
      "metadata": {
        "id": "yRHoxsC1MzUE",
        "colab_type": "code",
        "colab": {},
        "outputId": "04d916ed-05d1-4d04-a4aa-5684195b5803"
      },
      "source": [
        "list_of_strings[1:]"
      ],
      "execution_count": 0,
      "outputs": [
        {
          "output_type": "execute_result",
          "data": {
            "text/plain": [
              "['gonna', 'give', 'you', 'up']"
            ]
          },
          "metadata": {
            "tags": []
          },
          "execution_count": 65
        }
      ]
    },
    {
      "cell_type": "markdown",
      "metadata": {
        "id": "787RGubjMzUH",
        "colab_type": "text"
      },
      "source": [
        "You can add to a list with `list.append()`:"
      ]
    },
    {
      "cell_type": "code",
      "metadata": {
        "id": "MyAZhMcJMzUI",
        "colab_type": "code",
        "colab": {},
        "outputId": "16993a47-6c81-46b6-fc96-7c845597b7e1"
      },
      "source": [
        "list_of_strings.append(\"Word\")\n",
        "list_of_strings"
      ],
      "execution_count": 0,
      "outputs": [
        {
          "output_type": "execute_result",
          "data": {
            "text/plain": [
              "['Hello', 'world', 'Word', 'Word']"
            ]
          },
          "metadata": {
            "tags": []
          },
          "execution_count": 42
        }
      ]
    },
    {
      "cell_type": "markdown",
      "metadata": {
        "id": "LquOl8odMzUM",
        "colab_type": "text"
      },
      "source": [
        "_Questions_\n",
        "\n",
        "- 6) Can a list have a mix of numbers and strings?\n",
        "- 7) We joined strings with '+'. What happens if you try to use '+' on two lists?"
      ]
    },
    {
      "cell_type": "markdown",
      "metadata": {
        "id": "fpX4OuZJMzUN",
        "colab_type": "text"
      },
      "source": [
        "# 3. Splitting a string to a list"
      ]
    },
    {
      "cell_type": "markdown",
      "metadata": {
        "id": "jo6h-M_ZMzUQ",
        "colab_type": "text"
      },
      "source": [
        "A string can be split into a list using a splitting character. In the (useless) example below, we tell Python that everywhere there is an 'o' should be considered a place to split the string into a list:"
      ]
    },
    {
      "cell_type": "code",
      "metadata": {
        "id": "rbDsMHRDMzUR",
        "colab_type": "code",
        "colab": {},
        "outputId": "eaf1100e-a2ab-4ff3-b1ba-6521648c0245"
      },
      "source": [
        "sentence.split(\"o\")"
      ],
      "execution_count": 0,
      "outputs": [
        {
          "output_type": "execute_result",
          "data": {
            "text/plain": [
              "['Hell', ' w', 'rld.']"
            ]
          },
          "metadata": {
            "tags": []
          },
          "execution_count": 49
        }
      ]
    },
    {
      "cell_type": "markdown",
      "metadata": {
        "id": "Nghh409SMzUU",
        "colab_type": "text"
      },
      "source": [
        "This can be used for a simple word tokenization by space characters:"
      ]
    },
    {
      "cell_type": "code",
      "metadata": {
        "id": "5gr83niAMzUV",
        "colab_type": "code",
        "colab": {},
        "outputId": "0a0870d0-59aa-47c4-a449-cd552eb3ac07"
      },
      "source": [
        "words = sentence.split(\" \")\n",
        "words"
      ],
      "execution_count": 0,
      "outputs": [
        {
          "output_type": "execute_result",
          "data": {
            "text/plain": [
              "['Hello', 'world.']"
            ]
          },
          "metadata": {
            "tags": []
          },
          "execution_count": 54
        }
      ]
    },
    {
      "cell_type": "markdown",
      "metadata": {
        "collapsed": false,
        "scrolled": true,
        "id": "VXbhlnmKMzUY",
        "colab_type": "text"
      },
      "source": [
        "_Questions:_\n",
        "\n",
        " - 8) How would you select a list with the first seven words in the `paragraph` variable? This will require two steps. Show your code and the output.\n",
        " - 9) The opposite of `split` is possible with `\"string_to_join_list_items_by\".join(your_list)`. Set the list from question 8 to a variable and join it into a single string. The output will be 'It was a dark and stormy night;': write your code.\n",
        " - 10) Split the following text into a list of *sentences*. Don't worry if one of your sentences is an empty string (''). Show the code and output.\n",
        "     > The shows opens at Duckburg. After Donald Duck enlists in the navy, Uncle Scrooge has to take care of grand-nephews Huey, Dewey, and Louie. Uncle Scrooge brings the boys to the McDuck's mansion where they are presented to Duckworth, the butler. The nephews are forced to sleep in the attic."
      ]
    }
  ]
}