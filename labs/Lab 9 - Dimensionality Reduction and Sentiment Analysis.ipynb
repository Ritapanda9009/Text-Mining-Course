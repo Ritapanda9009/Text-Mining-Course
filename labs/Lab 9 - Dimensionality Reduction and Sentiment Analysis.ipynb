{
  "nbformat": 4,
  "nbformat_minor": 0,
  "metadata": {
    "kernelspec": {
      "display_name": "Python 3",
      "language": "python",
      "name": "python3"
    },
    "language_info": {
      "codemirror_mode": {
        "name": "ipython",
        "version": 3
      },
      "file_extension": ".py",
      "mimetype": "text/x-python",
      "name": "python",
      "nbconvert_exporter": "python",
      "pygments_lexer": "ipython3",
      "version": "3.5.1"
    },
    "colab": {
      "name": "Lab 9 - Dimensionality Reduction and Sentiment Analysis.ipynb",
      "provenance": [],
      "include_colab_link": true
    }
  },
  "cells": [
    {
      "cell_type": "markdown",
      "metadata": {
        "id": "view-in-github",
        "colab_type": "text"
      },
      "source": [
        "<a href=\"https://colab.research.google.com/github/organisciak/Text-Mining-Course/blob/independentstudy/labs/Lab%209%20-%20Dimensionality%20Reduction%20and%20Sentiment%20Analysis.ipynb\" target=\"_parent\"><img src=\"https://colab.research.google.com/assets/colab-badge.svg\" alt=\"Open In Colab\"/></a>"
      ]
    },
    {
      "cell_type": "markdown",
      "metadata": {
        "id": "HilkHLNQTQgw",
        "colab_type": "text"
      },
      "source": [
        "Lab 9\n",
        "\n",
        "- Dimensionality reduction with Latent Semantic Analysis\n",
        "- Dictionary-based sentiment analysis\n",
        "- Classification-based sentiment analysis"
      ]
    },
    {
      "cell_type": "code",
      "metadata": {
        "id": "ms8z5q9CTQg1",
        "colab_type": "code",
        "colab": {}
      },
      "source": [
        "import pandas as pd\n",
        "path = 'https://raw.githubusercontent.com/organisciak/Text-Mining-Course/master/data/contemporary_books/'\n",
        "data = pd.read_csv(path + 'contemporary.csv', encoding='utf-8').set_index('book')\n",
        "info = pd.read_csv(path + 'contemporary_labels.csv', encoding='utf-8')"
      ],
      "execution_count": 0,
      "outputs": []
    },
    {
      "cell_type": "markdown",
      "metadata": {
        "id": "08PZFWTlTQg8",
        "colab_type": "text"
      },
      "source": [
        "## Latent Semantic Analysis\n",
        "\n",
        "Latent Semantic Analysis applies a dimensionality reduction, SVD, over the term-document matrix. It can be found in Sci-Kit Learn using a similar interface to what we saw for classification and clustering: you initialize the model, train it (`fit`), then optionally give it other texts to infer which topics they belong to (`transform`). As before, if you want to see the topics for the texts that you're training on, you can use `fit_transform` all at once.\n",
        "\n",
        "http://scikit-learn.org/stable/modules/generated/sklearn.decomposition.TruncatedSVD.html"
      ]
    },
    {
      "cell_type": "code",
      "metadata": {
        "id": "BlcDBVn3TQg9",
        "colab_type": "code",
        "colab": {}
      },
      "source": [
        "from sklearn.decomposition import TruncatedSVD\n",
        "lsa = TruncatedSVD(n_components=2)\n",
        "twodims = lsa.fit_transform(data.values)"
      ],
      "execution_count": 0,
      "outputs": []
    },
    {
      "cell_type": "markdown",
      "metadata": {
        "id": "wiU-tadqTQhM",
        "colab_type": "text"
      },
      "source": [
        "`twodims` here gives us a representation of each of our books in two numbers. This is too small to be interpreted by us as topics, but the number are still useful for interpreting the similarity or difference of our books.\n",
        "\n",
        "`twodims` is currently a Numpy Array, let's convert it to something we know better, a DataFrame:"
      ]
    },
    {
      "cell_type": "code",
      "metadata": {
        "id": "08faP_UXTQhN",
        "colab_type": "code",
        "colab": {
          "base_uri": "https://localhost:8080/",
          "height": 225
        },
        "outputId": "5e73bea4-41cc-4e92-d8eb-4ead7fe4b0ee"
      },
      "source": [
        "twodims_df = pd.DataFrame(twodims, columns=['dim1', 'dim2'], index=info['title'])\n",
        "twodims_df.head()"
      ],
      "execution_count": 40,
      "outputs": [
        {
          "output_type": "execute_result",
          "data": {
            "text/html": [
              "<div>\n",
              "<style scoped>\n",
              "    .dataframe tbody tr th:only-of-type {\n",
              "        vertical-align: middle;\n",
              "    }\n",
              "\n",
              "    .dataframe tbody tr th {\n",
              "        vertical-align: top;\n",
              "    }\n",
              "\n",
              "    .dataframe thead th {\n",
              "        text-align: right;\n",
              "    }\n",
              "</style>\n",
              "<table border=\"1\" class=\"dataframe\">\n",
              "  <thead>\n",
              "    <tr style=\"text-align: right;\">\n",
              "      <th></th>\n",
              "      <th>dim1</th>\n",
              "      <th>dim2</th>\n",
              "    </tr>\n",
              "    <tr>\n",
              "      <th>title</th>\n",
              "      <th></th>\n",
              "      <th></th>\n",
              "    </tr>\n",
              "  </thead>\n",
              "  <tbody>\n",
              "    <tr>\n",
              "      <th>The stand</th>\n",
              "      <td>4539.134777</td>\n",
              "      <td>-899.085748</td>\n",
              "    </tr>\n",
              "    <tr>\n",
              "      <th>Lady oracle;</th>\n",
              "      <td>1483.051270</td>\n",
              "      <td>-156.938071</td>\n",
              "    </tr>\n",
              "    <tr>\n",
              "      <th>The robber bride</th>\n",
              "      <td>2061.469682</td>\n",
              "      <td>1036.625797</td>\n",
              "    </tr>\n",
              "    <tr>\n",
              "      <th>The pelican brief</th>\n",
              "      <td>1304.004510</td>\n",
              "      <td>133.809163</td>\n",
              "    </tr>\n",
              "    <tr>\n",
              "      <th>The rainmaker</th>\n",
              "      <td>1642.424503</td>\n",
              "      <td>1212.007119</td>\n",
              "    </tr>\n",
              "  </tbody>\n",
              "</table>\n",
              "</div>"
            ],
            "text/plain": [
              "                          dim1         dim2\n",
              "title                                      \n",
              "The stand          4539.134777  -899.085748\n",
              "Lady oracle;       1483.051270  -156.938071\n",
              "The robber bride   2061.469682  1036.625797\n",
              "The pelican brief  1304.004510   133.809163\n",
              "The rainmaker      1642.424503  1212.007119"
            ]
          },
          "metadata": {
            "tags": []
          },
          "execution_count": 40
        }
      ]
    },
    {
      "cell_type": "markdown",
      "metadata": {
        "id": "KwXKJmXaTQhZ",
        "colab_type": "text"
      },
      "source": [
        "DataFrames have a call to `plot.scatter` that is useful here:"
      ]
    },
    {
      "cell_type": "code",
      "metadata": {
        "id": "cbtMVKS2TQhb",
        "colab_type": "code",
        "colab": {
          "base_uri": "https://localhost:8080/",
          "height": 296
        },
        "outputId": "922a3f95-51e7-4dc9-9219-96b39d82c76c"
      },
      "source": [
        "twodims_df.plot.scatter('dim1', 'dim2')"
      ],
      "execution_count": 41,
      "outputs": [
        {
          "output_type": "execute_result",
          "data": {
            "text/plain": [
              "<matplotlib.axes._subplots.AxesSubplot at 0x7f8731bf6c50>"
            ]
          },
          "metadata": {
            "tags": []
          },
          "execution_count": 41
        },
        {
          "output_type": "display_data",
          "data": {
            "image/png": "[encoded data removed]",
            "text/plain": [
              "<Figure size 432x288 with 1 Axes>"
            ]
          },
          "metadata": {
            "tags": []
          }
        }
      ]
    },
    {
      "cell_type": "markdown",
      "metadata": {
        "id": "mWU1XjvNTQhh",
        "colab_type": "text"
      },
      "source": [
        "This plot of all the books shows that, when reducing the document-term matrix to 2-dimensions, *The Stand* is a heavy outlier, confirming what we saw last week.\n",
        "\n",
        "As last week, a TFIDF transformation will give better results, as such:\n",
        "\n",
        "![](https://github.com/organisciak/Text-Mining-Course/blob/independentstudy/images/lsa_2dim_tfidf.png?raw=1)\n",
        "\n",
        "**Q1** (2pts): Show the code to produce the above image. Note that the TFIDF transformation uses sublinear TF scaling."
      ]
    },
    {
      "cell_type": "markdown",
      "metadata": {
        "id": "io4Hu57eTQhi",
        "colab_type": "text"
      },
      "source": [
        "## Inspecting the LSA output\n",
        "\n",
        "You can look at how each word fits into each dimension with `lsa.components_`. This value only exists after the model is trained with `lsa.fit` or, as we did above, `lsa.fit_transform`.\n",
        "\n",
        "*Tip*: If you're trying to figure out what information is in a matrix, often its useful to check how big it is. We know that our original document-term matrix is:"
      ]
    },
    {
      "cell_type": "code",
      "metadata": {
        "id": "Gh3xVgAJTQhw",
        "colab_type": "code",
        "colab": {
          "base_uri": "https://localhost:8080/",
          "height": 34
        },
        "outputId": "6c78a26d-34c9-4471-b9e0-7c1761fb068e"
      },
      "source": [
        "data.shape"
      ],
      "execution_count": 42,
      "outputs": [
        {
          "output_type": "execute_result",
          "data": {
            "text/plain": [
              "(31, 17570)"
            ]
          },
          "metadata": {
            "tags": []
          },
          "execution_count": 42
        }
      ]
    },
    {
      "cell_type": "markdown",
      "metadata": {
        "id": "q8EuVIyxTQiy",
        "colab_type": "text"
      },
      "source": [
        ".. 31 books x 17570 words. The output of our two-dimension LSA is:"
      ]
    },
    {
      "cell_type": "code",
      "metadata": {
        "id": "BU17P2edTQi1",
        "colab_type": "code",
        "colab": {
          "base_uri": "https://localhost:8080/",
          "height": 34
        },
        "outputId": "30bee709-dfe3-4f56-ce52-d793ef189b23"
      },
      "source": [
        "twodims.shape"
      ],
      "execution_count": 43,
      "outputs": [
        {
          "output_type": "execute_result",
          "data": {
            "text/plain": [
              "(31, 2)"
            ]
          },
          "metadata": {
            "tags": []
          },
          "execution_count": 43
        }
      ]
    },
    {
      "cell_type": "markdown",
      "metadata": {
        "id": "Tji2ofZoTQjB",
        "colab_type": "text"
      },
      "source": [
        "...31 books x 2 dimensions. So when we check the size of `lsa.components_`:"
      ]
    },
    {
      "cell_type": "code",
      "metadata": {
        "id": "QtF2899HTQjC",
        "colab_type": "code",
        "colab": {
          "base_uri": "https://localhost:8080/",
          "height": 34
        },
        "outputId": "ea09ea5f-4f97-4e3a-c47b-7cba3ce4b968"
      },
      "source": [
        "lsa.components_.shape"
      ],
      "execution_count": 44,
      "outputs": [
        {
          "output_type": "execute_result",
          "data": {
            "text/plain": [
              "(2, 17570)"
            ]
          },
          "metadata": {
            "tags": []
          },
          "execution_count": 44
        }
      ]
    },
    {
      "cell_type": "markdown",
      "metadata": {
        "id": "JyfSFthmTQkX",
        "colab_type": "text"
      },
      "source": [
        "We can infer that it is a dimension x word matrix. Convert it to a DataFrame and transpose it (i.e. rotate the columns/row, with `T`) so that the dimensions are rows rather than columns."
      ]
    },
    {
      "cell_type": "code",
      "metadata": {
        "scrolled": true,
        "id": "v3WAvjGRTQkl",
        "colab_type": "code",
        "colab": {
          "base_uri": "https://localhost:8080/",
          "height": 195
        },
        "outputId": "1e9e8ae7-1873-4eed-b883-3ac39aa97b70"
      },
      "source": [
        "dimwords = pd.DataFrame(lsa.components_, columns=data.columns).T\n",
        "dimwords.head()"
      ],
      "execution_count": 45,
      "outputs": [
        {
          "output_type": "execute_result",
          "data": {
            "text/html": [
              "<div>\n",
              "<style scoped>\n",
              "    .dataframe tbody tr th:only-of-type {\n",
              "        vertical-align: middle;\n",
              "    }\n",
              "\n",
              "    .dataframe tbody tr th {\n",
              "        vertical-align: top;\n",
              "    }\n",
              "\n",
              "    .dataframe thead th {\n",
              "        text-align: right;\n",
              "    }\n",
              "</style>\n",
              "<table border=\"1\" class=\"dataframe\">\n",
              "  <thead>\n",
              "    <tr style=\"text-align: right;\">\n",
              "      <th></th>\n",
              "      <th>0</th>\n",
              "      <th>1</th>\n",
              "    </tr>\n",
              "  </thead>\n",
              "  <tbody>\n",
              "    <tr>\n",
              "      <th>aback</th>\n",
              "      <td>0.000299</td>\n",
              "      <td>0.000628</td>\n",
              "    </tr>\n",
              "    <tr>\n",
              "      <th>abagail</th>\n",
              "      <td>0.000541</td>\n",
              "      <td>-0.001387</td>\n",
              "    </tr>\n",
              "    <tr>\n",
              "      <th>abandon</th>\n",
              "      <td>0.000305</td>\n",
              "      <td>-0.000280</td>\n",
              "    </tr>\n",
              "    <tr>\n",
              "      <th>abandoned</th>\n",
              "      <td>0.002105</td>\n",
              "      <td>0.002336</td>\n",
              "    </tr>\n",
              "    <tr>\n",
              "      <th>abandoning</th>\n",
              "      <td>0.000152</td>\n",
              "      <td>0.000389</td>\n",
              "    </tr>\n",
              "  </tbody>\n",
              "</table>\n",
              "</div>"
            ],
            "text/plain": [
              "                   0         1\n",
              "aback       0.000299  0.000628\n",
              "abagail     0.000541 -0.001387\n",
              "abandon     0.000305 -0.000280\n",
              "abandoned   0.002105  0.002336\n",
              "abandoning  0.000152  0.000389"
            ]
          },
          "metadata": {
            "tags": []
          },
          "execution_count": 45
        }
      ]
    },
    {
      "cell_type": "markdown",
      "metadata": {
        "id": "R_hBe2ygTQkt",
        "colab_type": "text"
      },
      "source": [
        "What are the most representative words for a topic? Choose a column and sort it in descending order to find out. Noting that we didn't change the column names this time from the default `0` and `1`, selection and sorting should be familiar to you by now:"
      ]
    },
    {
      "cell_type": "code",
      "metadata": {
        "scrolled": true,
        "id": "s1-nJhDLTQk4",
        "colab_type": "code",
        "colab": {
          "base_uri": "https://localhost:8080/",
          "height": 118
        },
        "outputId": "61a0cc75-5f86-4661-d0e4-7e9672a3246e"
      },
      "source": [
        "dimwords[0].sort_values(ascending=False).head()"
      ],
      "execution_count": 46,
      "outputs": [
        {
          "output_type": "execute_result",
          "data": {
            "text/plain": [
              "said    0.401848\n",
              "back    0.209380\n",
              "know    0.162806\n",
              "time    0.147195\n",
              "get     0.138833\n",
              "Name: 0, dtype: float64"
            ]
          },
          "metadata": {
            "tags": []
          },
          "execution_count": 46
        }
      ]
    },
    {
      "cell_type": "markdown",
      "metadata": {
        "id": "Yh3W9qOXTQlY",
        "colab_type": "text"
      },
      "source": [
        "Or more generally, extracting the top words from the index, for each dimension:"
      ]
    },
    {
      "cell_type": "code",
      "metadata": {
        "id": "fyLidnXJTQlZ",
        "colab_type": "code",
        "colab": {
          "base_uri": "https://localhost:8080/",
          "height": 50
        },
        "outputId": "e3a4cdf0-48dc-4785-9525-d24e610550dc"
      },
      "source": [
        "for i in range(0, 2):\n",
        "    topwords = dimwords[i].sort_values(ascending=False)\n",
        "    print(i, \"Top words: \", topwords.index.values[:7])"
      ],
      "execution_count": 47,
      "outputs": [
        {
          "output_type": "stream",
          "text": [
            "0 Top words:  ['said' 'back' 'know' 'time' 'get' 'little' 'right']\n",
            "1 Top words:  ['says' 'say' 'money' 'lawyer' 'office' 'jury' 'ask']\n"
          ],
          "name": "stdout"
        }
      ]
    },
    {
      "cell_type": "markdown",
      "metadata": {
        "id": "fxW6TPj-TQlj",
        "colab_type": "text"
      },
      "source": [
        "To move toward topics, try training with more dimensions, and with smaller document frames (e.g. pages rather than books). Here are the top words for 15 topics:\n",
        "\n",
        "```\n",
        "0 Top words:  ['time' 'way' 'something' 'eyes' 'man' 'door' 'head']\n",
        "1 Top words:  ['lawyers' 'trial' 'lawyer' 'jury' 'client' 'firm' 'office']\n",
        "2 Top words:  ['university' 'mar' 'billing' 'books' 'book' 'date' 'fiction']\n",
        "3 Top words:  ['fiction' 'copyright' 'book' 'women' 'author' 'children' 'permission']\n",
        "4 Top words:  ['copyright' 'book' 'fiction' 'trademarks' 'characters' 'resemblance'\n",
        " 'author']\n",
        "5 Top words:  ['jury' 'jurors' 'courtroom' 'witness' 'trial' 'courthouse' 'county']\n",
        "6 Top words:  ['copyright' 'division' 'trademarks' 'persons' 'rights' 'resemblance'\n",
        " 'permission']\n",
        "7 Top words:  ['claims' 'claim' 'policy' 'documents' 'company' 'firm' 'marrow']\n",
        "8 Top words:  ['woods' 'boat' 'settlement' 'firm' 'water' 'tree' 'trees']\n",
        "9 Top words:  ['quarterback' 'team' 'panthers' 'football' 'field' 'game' 'ball']\n",
        "10 Top words:  ['beach' 'shells' 'daughter' 'paintings' 'pictures' 'painting' 'ship']\n",
        "11 Top words:  ['firm' 'tort' 'plaintiffs' 'art' 'trial' 'paintings' 'shells']\n",
        "12 Top words:  ['maids' 'suitors' 'cop' 'palace' 'husband' 'son' 'father']\n",
        "13 Top words:  ['boat' 'river' 'cop' 'sand' 'plane' 'wind' 'boats']\n",
        "14 Top words:  ['firm' 'exam' 'hospital' 'horror' 'bar' 'nurse' 'cell']\n",
        "```\n",
        "\n",
        "We've posted data for 10-page chunks of the same books here:"
      ]
    },
    {
      "cell_type": "code",
      "metadata": {
        "id": "emx_9rO0TQlk",
        "colab_type": "code",
        "colab": {}
      },
      "source": [
        "path = 'https://raw.githubusercontent.com/organisciak/Text-Mining-Course/master/data/contemporary_books/'\n",
        "data = pd.read_csv(path + 'contemporary-pages.csv.gz', encoding='utf-8', compression='gzip').set_index('id')\n",
        "info = pd.read_csv(path + 'contemporary-pages_labels.csv', encoding='utf-8')"
      ],
      "execution_count": 0,
      "outputs": []
    },
    {
      "cell_type": "markdown",
      "metadata": {
        "id": "bvxZtEUDTQlq",
        "colab_type": "text"
      },
      "source": [
        "**Q2**: Training on the page chunks, train a model with 15 topics and view the topics. They'll be similar but not necessarily the same to what is posted above. Share your code."
      ]
    },
    {
      "cell_type": "markdown",
      "metadata": {
        "id": "GGtZPQoLTQls",
        "colab_type": "text"
      },
      "source": [
        "## Sentiment Analysis - Dictionary Method\n",
        "\n",
        "One form of sentiment analysis is through dictionaries that assign a valence to a set of known words.\n",
        "\n",
        "We'll use a version of the dictionary created by Nielson (2011).\n",
        "\n",
        "\\*Nielsen, Finn Årup. May 2011. \"A new ANEW: Evaluation of a word list for sentiment analysis in microblogs\", Proceedings of the ESWC 2011 Workshop on 'Making Sense of Microposts': Big things come in small packages 718 in CEUR Workshop Proceedings : 93-98. http://arxiv.org/abs/1103.2903\n",
        "\n",
        "This dictionary assigns emotional values from -5 to +5: negative values denote negative emotion, while positive values are positive."
      ]
    },
    {
      "cell_type": "code",
      "metadata": {
        "id": "9nk5a3z3TQlt",
        "colab_type": "code",
        "colab": {
          "base_uri": "https://localhost:8080/",
          "height": 195
        },
        "outputId": "eafb4a4c-8d09-4f8e-a220-6958d28ee8f1"
      },
      "source": [
        "afinn = pd.read_json('https://github.com/words/afinn-111/raw/master/index.json', orient='index').reset_index()\n",
        "afinn.columns = ['token', 'valence']\n",
        "afinn.sample(5)"
      ],
      "execution_count": 31,
      "outputs": [
        {
          "output_type": "execute_result",
          "data": {
            "text/html": [
              "<div>\n",
              "<style scoped>\n",
              "    .dataframe tbody tr th:only-of-type {\n",
              "        vertical-align: middle;\n",
              "    }\n",
              "\n",
              "    .dataframe tbody tr th {\n",
              "        vertical-align: top;\n",
              "    }\n",
              "\n",
              "    .dataframe thead th {\n",
              "        text-align: right;\n",
              "    }\n",
              "</style>\n",
              "<table border=\"1\" class=\"dataframe\">\n",
              "  <thead>\n",
              "    <tr style=\"text-align: right;\">\n",
              "      <th></th>\n",
              "      <th>token</th>\n",
              "      <th>valence</th>\n",
              "    </tr>\n",
              "  </thead>\n",
              "  <tbody>\n",
              "    <tr>\n",
              "      <th>1420</th>\n",
              "      <td>lawsuit</td>\n",
              "      <td>-2</td>\n",
              "    </tr>\n",
              "    <tr>\n",
              "      <th>2326</th>\n",
              "      <td>unloved</td>\n",
              "      <td>-2</td>\n",
              "    </tr>\n",
              "    <tr>\n",
              "      <th>736</th>\n",
              "      <td>disruptions</td>\n",
              "      <td>-2</td>\n",
              "    </tr>\n",
              "    <tr>\n",
              "      <th>297</th>\n",
              "      <td>boost</td>\n",
              "      <td>1</td>\n",
              "    </tr>\n",
              "    <tr>\n",
              "      <th>1292</th>\n",
              "      <td>ineffective</td>\n",
              "      <td>-2</td>\n",
              "    </tr>\n",
              "  </tbody>\n",
              "</table>\n",
              "</div>"
            ],
            "text/plain": [
              "            token  valence\n",
              "1420      lawsuit       -2\n",
              "2326      unloved       -2\n",
              "736   disruptions       -2\n",
              "297         boost        1\n",
              "1292  ineffective       -2"
            ]
          },
          "metadata": {
            "tags": []
          },
          "execution_count": 31
        }
      ]
    },
    {
      "cell_type": "markdown",
      "metadata": {
        "id": "FV52xP8bTQl9",
        "colab_type": "text"
      },
      "source": [
        "Here's an example of a word at each sentiment value:\n",
        "\n",
        "(What am I doing here? I'm grouping by different values for 'value' and randomly sampling a single row from that subgroup)"
      ]
    },
    {
      "cell_type": "code",
      "metadata": {
        "id": "vrgFIb-UTQl-",
        "colab_type": "code",
        "colab": {
          "base_uri": "https://localhost:8080/",
          "height": 402
        },
        "outputId": "977131ca-4d3b-4387-ce44-b9b1bda0a130"
      },
      "source": [
        "afinn.groupby('valence').apply(lambda x: x.sample())"
      ],
      "execution_count": 49,
      "outputs": [
        {
          "output_type": "execute_result",
          "data": {
            "text/html": [
              "<div>\n",
              "<style scoped>\n",
              "    .dataframe tbody tr th:only-of-type {\n",
              "        vertical-align: middle;\n",
              "    }\n",
              "\n",
              "    .dataframe tbody tr th {\n",
              "        vertical-align: top;\n",
              "    }\n",
              "\n",
              "    .dataframe thead th {\n",
              "        text-align: right;\n",
              "    }\n",
              "</style>\n",
              "<table border=\"1\" class=\"dataframe\">\n",
              "  <thead>\n",
              "    <tr style=\"text-align: right;\">\n",
              "      <th></th>\n",
              "      <th></th>\n",
              "      <th>token</th>\n",
              "      <th>valence</th>\n",
              "    </tr>\n",
              "    <tr>\n",
              "      <th>valence</th>\n",
              "      <th></th>\n",
              "      <th></th>\n",
              "      <th></th>\n",
              "    </tr>\n",
              "  </thead>\n",
              "  <tbody>\n",
              "    <tr>\n",
              "      <th>-5</th>\n",
              "      <th>1603</th>\n",
              "      <td>nigger</td>\n",
              "      <td>-5</td>\n",
              "    </tr>\n",
              "    <tr>\n",
              "      <th>-4</th>\n",
              "      <th>1047</th>\n",
              "      <td>fucktard</td>\n",
              "      <td>-4</td>\n",
              "    </tr>\n",
              "    <tr>\n",
              "      <th>-3</th>\n",
              "      <th>1529</th>\n",
              "      <td>miserable</td>\n",
              "      <td>-3</td>\n",
              "    </tr>\n",
              "    <tr>\n",
              "      <th>-2</th>\n",
              "      <th>2151</th>\n",
              "      <td>struggled</td>\n",
              "      <td>-2</td>\n",
              "    </tr>\n",
              "    <tr>\n",
              "      <th>-1</th>\n",
              "      <th>996</th>\n",
              "      <td>flees</td>\n",
              "      <td>-1</td>\n",
              "    </tr>\n",
              "    <tr>\n",
              "      <th>0</th>\n",
              "      <th>2073</th>\n",
              "      <td>some kind</td>\n",
              "      <td>0</td>\n",
              "    </tr>\n",
              "    <tr>\n",
              "      <th>1</th>\n",
              "      <th>2470</th>\n",
              "      <td>yes</td>\n",
              "      <td>1</td>\n",
              "    </tr>\n",
              "    <tr>\n",
              "      <th>2</th>\n",
              "      <th>1207</th>\n",
              "      <td>hopes</td>\n",
              "      <td>2</td>\n",
              "    </tr>\n",
              "    <tr>\n",
              "      <th>3</th>\n",
              "      <th>1748</th>\n",
              "      <td>praises</td>\n",
              "      <td>3</td>\n",
              "    </tr>\n",
              "    <tr>\n",
              "      <th>4</th>\n",
              "      <th>1864</th>\n",
              "      <td>rejoicing</td>\n",
              "      <td>4</td>\n",
              "    </tr>\n",
              "    <tr>\n",
              "      <th>5</th>\n",
              "      <th>2234</th>\n",
              "      <td>thrilled</td>\n",
              "      <td>5</td>\n",
              "    </tr>\n",
              "  </tbody>\n",
              "</table>\n",
              "</div>"
            ],
            "text/plain": [
              "                  token  valence\n",
              "valence                         \n",
              "-5      1603     nigger       -5\n",
              "-4      1047   fucktard       -4\n",
              "-3      1529  miserable       -3\n",
              "-2      2151  struggled       -2\n",
              "-1      996       flees       -1\n",
              " 0      2073  some kind        0\n",
              " 1      2470        yes        1\n",
              " 2      1207      hopes        2\n",
              " 3      1748    praises        3\n",
              " 4      1864  rejoicing        4\n",
              " 5      2234   thrilled        5"
            ]
          },
          "metadata": {
            "tags": []
          },
          "execution_count": 49
        }
      ]
    },
    {
      "cell_type": "markdown",
      "metadata": {
        "collapsed": true,
        "id": "Gq9HgCWqTQmH",
        "colab_type": "text"
      },
      "source": [
        "One way to use a sentiment dictionary is to assign sentiment weights to all the known words, and sum it up.\n",
        "\n",
        "Since we already have the sentiment dictionary as a Pandas DataFrame, we can load a DataFrame from our text and do an 'inner join', which joins two dataframes based on the values that overlap between specific columns.\n",
        "\n",
        "The book we'll try is _The Stand_."
      ]
    },
    {
      "cell_type": "code",
      "metadata": {
        "id": "04PZSqAPeQ-y",
        "colab_type": "code",
        "colab": {}
      },
      "source": [
        "# Remember that we need to install the Feature Reader each time in Colab\n",
        "!pip install git+https://github.com/massivetexts/htrc-feature-reader.git"
      ],
      "execution_count": 0,
      "outputs": []
    },
    {
      "cell_type": "code",
      "metadata": {
        "id": "Uui-RePxTQmI",
        "colab_type": "code",
        "colab": {
          "base_uri": "https://localhost:8080/",
          "height": 157
        },
        "outputId": "b5533b0d-6242-421d-9cad-5f1545cbe712"
      },
      "source": [
        "# Load a volume\n",
        "from htrc_features import FeatureReader\n",
        "fr = FeatureReader('mdp.39015005028686')\n",
        "vol = fr.first()\n",
        "\n",
        "print(\"\\nOur book is \", vol.title)\n",
        "df = vol.tokenlist(pos=False, pages=False, case=False, drop_section=True).reset_index()\n",
        "df.head(2)"
      ],
      "execution_count": 60,
      "outputs": [
        {
          "output_type": "stream",
          "text": [
            "WARNING:root:You have passed a single items to 'ids'or 'paths' in a FeatureReader initialization.Consider calling 'volume' directly.\n"
          ],
          "name": "stderr"
        },
        {
          "output_type": "stream",
          "text": [
            "\n",
            "Our book is  The stand / Stephen King.\n"
          ],
          "name": "stdout"
        },
        {
          "output_type": "execute_result",
          "data": {
            "text/html": [
              "<div>\n",
              "<style scoped>\n",
              "    .dataframe tbody tr th:only-of-type {\n",
              "        vertical-align: middle;\n",
              "    }\n",
              "\n",
              "    .dataframe tbody tr th {\n",
              "        vertical-align: top;\n",
              "    }\n",
              "\n",
              "    .dataframe thead th {\n",
              "        text-align: right;\n",
              "    }\n",
              "</style>\n",
              "<table border=\"1\" class=\"dataframe\">\n",
              "  <thead>\n",
              "    <tr style=\"text-align: right;\">\n",
              "      <th></th>\n",
              "      <th>lowercase</th>\n",
              "      <th>count</th>\n",
              "    </tr>\n",
              "  </thead>\n",
              "  <tbody>\n",
              "    <tr>\n",
              "      <th>0</th>\n",
              "      <td>!</td>\n",
              "      <td>857</td>\n",
              "    </tr>\n",
              "    <tr>\n",
              "      <th>1</th>\n",
              "      <td>!«&amp;i</td>\n",
              "      <td>1</td>\n",
              "    </tr>\n",
              "  </tbody>\n",
              "</table>\n",
              "</div>"
            ],
            "text/plain": [
              "  lowercase  count\n",
              "0         !    857\n",
              "1      !«&i      1"
            ]
          },
          "metadata": {
            "tags": []
          },
          "execution_count": 60
        }
      ]
    },
    {
      "cell_type": "markdown",
      "metadata": {
        "id": "1TObzzqOTQmY",
        "colab_type": "text"
      },
      "source": [
        "Inner join is possible with `pd.merge(dataframe1, dataframe2)`.\n",
        "\n",
        "Here is a visual example of inner joining from the [Brief primer on merge methods](http://pandas.pydata.org/pandas-docs/stable/merging.html#brief-primer-on-merge-methods-relational-algebra) from the Pandas documentation:\n",
        "\n",
        "![](https://github.com/organisciak/Text-Mining-Course/blob/independentstudy/images/inner-join.png?raw=1)"
      ]
    },
    {
      "cell_type": "code",
      "metadata": {
        "id": "uJMcO_QYTQma",
        "colab_type": "code",
        "colab": {
          "base_uri": "https://localhost:8080/",
          "height": 195
        },
        "outputId": "b8d98b44-5d23-44dd-e3a2-5a0599985f13"
      },
      "source": [
        "valence = pd.merge(df, afinn, left_on='lowercase', right_on='token')\n",
        "valence.head()"
      ],
      "execution_count": 61,
      "outputs": [
        {
          "output_type": "execute_result",
          "data": {
            "text/html": [
              "<div>\n",
              "<style scoped>\n",
              "    .dataframe tbody tr th:only-of-type {\n",
              "        vertical-align: middle;\n",
              "    }\n",
              "\n",
              "    .dataframe tbody tr th {\n",
              "        vertical-align: top;\n",
              "    }\n",
              "\n",
              "    .dataframe thead th {\n",
              "        text-align: right;\n",
              "    }\n",
              "</style>\n",
              "<table border=\"1\" class=\"dataframe\">\n",
              "  <thead>\n",
              "    <tr style=\"text-align: right;\">\n",
              "      <th></th>\n",
              "      <th>lowercase</th>\n",
              "      <th>count</th>\n",
              "      <th>token</th>\n",
              "      <th>valence</th>\n",
              "    </tr>\n",
              "  </thead>\n",
              "  <tbody>\n",
              "    <tr>\n",
              "      <th>0</th>\n",
              "      <td>abandon</td>\n",
              "      <td>2</td>\n",
              "      <td>abandon</td>\n",
              "      <td>-2</td>\n",
              "    </tr>\n",
              "    <tr>\n",
              "      <th>1</th>\n",
              "      <td>abandoned</td>\n",
              "      <td>6</td>\n",
              "      <td>abandoned</td>\n",
              "      <td>-2</td>\n",
              "    </tr>\n",
              "    <tr>\n",
              "      <th>2</th>\n",
              "      <td>ability</td>\n",
              "      <td>8</td>\n",
              "      <td>ability</td>\n",
              "      <td>2</td>\n",
              "    </tr>\n",
              "    <tr>\n",
              "      <th>3</th>\n",
              "      <td>aboard</td>\n",
              "      <td>2</td>\n",
              "      <td>aboard</td>\n",
              "      <td>1</td>\n",
              "    </tr>\n",
              "    <tr>\n",
              "      <th>4</th>\n",
              "      <td>absolve</td>\n",
              "      <td>1</td>\n",
              "      <td>absolve</td>\n",
              "      <td>2</td>\n",
              "    </tr>\n",
              "  </tbody>\n",
              "</table>\n",
              "</div>"
            ],
            "text/plain": [
              "   lowercase  count      token  valence\n",
              "0    abandon      2    abandon       -2\n",
              "1  abandoned      6  abandoned       -2\n",
              "2    ability      8    ability        2\n",
              "3     aboard      2     aboard        1\n",
              "4    absolve      1    absolve        2"
            ]
          },
          "metadata": {
            "tags": []
          },
          "execution_count": 61
        }
      ]
    },
    {
      "cell_type": "markdown",
      "metadata": {
        "id": "5Qz6wiWXTQnK",
        "colab_type": "text"
      },
      "source": [
        "As you can see, the only the words from _The Stand_ that also exist in the dictionary were retained.\n",
        "\n",
        "Side-note: there is a columns that you don't need. If it bothers you it can be deleted with `drop()` -- e.g., `valence.drop(['lowercase'], 1)` -- or simply ignore it!\n",
        "\n",
        "**Q3** (2 points): Share the code to determine the sum of all the sentiment scores for _The Stand_. Hints: The result is `-1397`, not `-559`. Also, remember that a single column of a DataFrame is simply as Series object, so Googling 'sum a Series in Pandas' might help in summing a column."
      ]
    },
    {
      "cell_type": "markdown",
      "metadata": {
        "id": "-nNdKSZlTQnQ",
        "colab_type": "text"
      },
      "source": [
        "**Q4**: What is a possible problem with summing a set of dictionary assigned sentiment scores?"
      ]
    },
    {
      "cell_type": "markdown",
      "metadata": {
        "id": "8_qLLpQxTQnR",
        "colab_type": "text"
      },
      "source": [
        "**Q5** (2 points): Share the code for determining the page-by-page sentiment in the book. You'll need to load more data out of the volume, and return to your groupby() skills.\n",
        "\n",
        "Hint: The sentiments for pages 8,9,and 13 are +5, +11, and -10. If you run .plot() on your final dataframe, it will look like this:\n",
        "\n",
        "![](https://github.com/organisciak/Text-Mining-Course/blob/independentstudy/images/thestand-valence.png?raw=1)"
      ]
    },
    {
      "cell_type": "markdown",
      "metadata": {
        "id": "SQyIk_BWTQnc",
        "colab_type": "text"
      },
      "source": [
        "## Tip\n",
        "\n",
        "That page-by-page sentiment plot is messy. If you want to see the overarching thrust of sentiment in the novel, try smoothing it with a rolling mean.\n",
        "\n",
        "A rolling mean takes the average sentiment for a window of pages, then moves the window forward one spot and averages again, and so on (e.g. with a window of 5, means are taken for pages 1-5, then pages 2-6, then 3-7, etc.)."
      ]
    },
    {
      "cell_type": "code",
      "metadata": {
        "id": "OLqlgwnjTQnd",
        "colab_type": "code",
        "colab": {
          "base_uri": "https://localhost:8080/",
          "height": 296
        },
        "outputId": "3a85dbc0-02fc-454b-8225-3231f20a507d"
      },
      "source": [
        "grouped_sentiment['rolling'] = grouped_sentiment['total'].rolling(window=60, min_periods=10).mean()\n",
        "grouped_sentiment['rolling'].plot()"
      ],
      "execution_count": 76,
      "outputs": [
        {
          "output_type": "execute_result",
          "data": {
            "text/plain": [
              "<matplotlib.axes._subplots.AxesSubplot at 0x7f872854e780>"
            ]
          },
          "metadata": {
            "tags": []
          },
          "execution_count": 76
        },
        {
          "output_type": "display_data",
          "data": {
            "image/png": "[encoded data removed]",
            "text/plain": [
              "<Figure size 432x288 with 1 Axes>"
            ]
          },
          "metadata": {
            "tags": []
          }
        }
      ]
    },
    {
      "cell_type": "markdown",
      "metadata": {
        "id": "D1mALuyOTQnm",
        "colab_type": "text"
      },
      "source": [
        "This generally aligns with events in the *The Stand*. Things are fine for a very brief moment because a virus wipes out most of America. The rising sentiment happens through the middle act, as survivors are finding eaching, travelling toward Boulder, CO, and eventually rebuilding. Then the third act has a showdown with an antogonist and some smaller survival conflicts.\n",
        "\n",
        "Not perfect, but certainly more representative then the unsmoothed version!"
      ]
    },
    {
      "cell_type": "markdown",
      "metadata": {
        "id": "saz3G8QqTQnw",
        "colab_type": "text"
      },
      "source": [
        "## Extra Notes\n",
        "\n",
        "Here is how you can visualize `twodims` in its original Numpy Array form, without converting it to a DataFrame."
      ]
    },
    {
      "cell_type": "code",
      "metadata": {
        "scrolled": true,
        "id": "A4uCJ0N_TQoU",
        "colab_type": "code",
        "colab": {},
        "outputId": "2cfd2e6a-b11a-4235-8945-211e79d5c3f8"
      },
      "source": [
        "import matplotlib.pyplot as plt\n",
        "plt.scatter(x=twodims[:,0], y=twodims[:,1])"
      ],
      "execution_count": 0,
      "outputs": [
        {
          "output_type": "execute_result",
          "data": {
            "text/plain": [
              "<matplotlib.collections.PathCollection at 0x2515958b5f8>"
            ]
          },
          "metadata": {
            "tags": []
          },
          "execution_count": 12
        },
        {
          "output_type": "display_data",
          "data": {
            "image/png": "[encoded data removed]",
            "text/plain": [
              "<matplotlib.figure.Figure at 0x2515ab1ffd0>"
            ]
          },
          "metadata": {
            "tags": []
          }
        }
      ]
    },
    {
      "cell_type": "markdown",
      "metadata": {
        "id": "scob7O9fTQp4",
        "colab_type": "text"
      },
      "source": [
        "Since we have not done much work with arrays, it is worth noting how we provided the values to the scatterplot.\n",
        "\n",
        "The twodims array provides two values for each books. By asking for `twodims[:,0]` to set to x, that simply returns the first value for all the books. `:` is essentially saying \"from start to finish\": in this case we asked for all the rows. The second value refers to the columns: we only asked for the first column: `0`.\n",
        "\n",
        "Consider an array called `arr` that looks like this:\n",
        "\n",
        "```\n",
        "[[a, A],\n",
        " [b, B],\n",
        " [c, C]]\n",
        "```\n",
        "\n",
        "In this example, `arr[:,0]` returns `[a,b,c]`, while `arr[:,1]` returns `[A,B,C]`.\n",
        "\n",
        "Of course, while we haven't dealt with arrays much, we have dealt with their smarter cousin, DataFrames. If you want ignore all of the above, you can also convert twodims to a more familiar DataFrame:"
      ]
    }
  ]
}